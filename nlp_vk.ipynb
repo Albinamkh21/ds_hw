{
 "cells": [
  {
   "cell_type": "code",
   "execution_count": 152,
   "metadata": {},
   "outputs": [],
   "source": [
    "import vk_api\n",
    "import json\n",
    "from pandas.io.json import json_normalize\n",
    "import pandas as pd\n",
    "import datetime\n",
    "\n",
    "from sklearn.model_selection import cross_val_score\n",
    "from sklearn.model_selection import train_test_split\n"
   ]
  },
  {
   "cell_type": "markdown",
   "metadata": {},
   "source": [
    "Задача предсказать возраст\n",
    "\n",
    "метрика MSE"
   ]
  },
  {
   "cell_type": "code",
   "execution_count": 153,
   "metadata": {},
   "outputs": [],
   "source": [
    "vk_session = vk_api.VkApi('+77056735885', '211907098381aa')\n",
    "vk_session.auth()\n",
    "\n"
   ]
  },
  {
   "cell_type": "code",
   "execution_count": 154,
   "metadata": {},
   "outputs": [],
   "source": [
    "vk_api = vk_session.get_api()"
   ]
  },
  {
   "cell_type": "code",
   "execution_count": 155,
   "metadata": {},
   "outputs": [],
   "source": [
    "#posts = getLikes (5117073,1, vk_api)"
   ]
  },
  {
   "cell_type": "code",
   "execution_count": 156,
   "metadata": {},
   "outputs": [],
   "source": [
    "def get_friends(userId, api):\n",
    "    user_friends = api.friends.get(user_id=userId, order='hints', fields = 'id, nickname, domain, sex, bdate, city, country, timezone, has_mobile, contacts, education, online, relation,  status, universities , faculty, faculty_name, relation') # возвращает в том порядке, как расположены в разделе Мои\n",
    "    return user_friends"
   ]
  },
  {
   "cell_type": "code",
   "execution_count": 157,
   "metadata": {},
   "outputs": [],
   "source": [
    "def get_posts(userId, api):\n",
    "    user_posts = api.wall.get(owner_id=userId, filter='owner') \n",
    "    return user_posts"
   ]
  },
  {
   "cell_type": "code",
   "execution_count": 158,
   "metadata": {},
   "outputs": [],
   "source": [
    "def transformDataToDf(data, file_txt, file_csv):\n",
    "    with open(file_txt,'w', encoding='utf-8') as file:\n",
    "        json.dump(data,file,ensure_ascii=False)\n",
    "        \n",
    "    df = pd.read_json(file_txt, encoding='utf-8')\n",
    "    df2 = json_normalize(df['items'])\n",
    "    df2.to_csv(file_csv,sep = ',')\n",
    "    \n",
    "    df = pd.read_csv(file_csv,  sep=',')\n",
    "    \n",
    "    return df"
   ]
  },
  {
   "cell_type": "markdown",
   "metadata": {},
   "source": [
    "### Получение данных по друзьям"
   ]
  },
  {
   "cell_type": "code",
   "execution_count": 159,
   "metadata": {},
   "outputs": [],
   "source": [
    "friends =  get_friends(5117073,vk_api)"
   ]
  },
  {
   "cell_type": "code",
   "execution_count": 160,
   "metadata": {},
   "outputs": [],
   "source": [
    "df_f = transformDataToDf(friends, 'c:/friends.txt', 'c:/friends.csv')"
   ]
  },
  {
   "cell_type": "code",
   "execution_count": 161,
   "metadata": {},
   "outputs": [
    {
     "data": {
      "text/plain": [
       "(125, 35)"
      ]
     },
     "execution_count": 161,
     "metadata": {},
     "output_type": "execute_result"
    }
   ],
   "source": [
    "df_f[df_f['deactivated']=='deleted'] \n",
    "df_f.shape\n",
    "df_f = df_f.drop(df_f[df_f.deactivated == 'deleted'].index)\n",
    "df_f.shape"
   ]
  },
  {
   "cell_type": "code",
   "execution_count": 162,
   "metadata": {},
   "outputs": [],
   "source": [
    "#Определяем возраст человека, если не указан ставим 0\n",
    "df_f['bdate'] = df_f['bdate'].astype('str')\n",
    "df_f['bdate']= df_f['bdate'].apply(lambda x: '01.01.2019' if len(x) < 8 else x)\n",
    "df_f['age'] = df_f.bdate.str[-4:]\n",
    "df_f['age'] = df_f['age'].astype('int')\n",
    "tday = datetime.datetime.now()\n",
    "df_f['age2'] = tday.year\n",
    "df_f['age2'].astype('int')\n",
    "df_f['age3'] = df_f['age2'] - df_f['age']\n",
    "\n",
    "\n"
   ]
  },
  {
   "cell_type": "code",
   "execution_count": 163,
   "metadata": {},
   "outputs": [],
   "source": [
    "cols = ['id','first_name','last_name','graduation', 'city.id','city.title','country.id','country.title','education_form','education_status','faculty','faculty_name','relation','relation_partner.id',\n",
    "'sex','status','bdate','age3']\n",
    "df_f = df_f[cols]"
   ]
  },
  {
   "cell_type": "code",
   "execution_count": 40,
   "metadata": {},
   "outputs": [
    {
     "data": {
      "text/html": [
       "<div>\n",
       "<style scoped>\n",
       "    .dataframe tbody tr th:only-of-type {\n",
       "        vertical-align: middle;\n",
       "    }\n",
       "\n",
       "    .dataframe tbody tr th {\n",
       "        vertical-align: top;\n",
       "    }\n",
       "\n",
       "    .dataframe thead th {\n",
       "        text-align: right;\n",
       "    }\n",
       "</style>\n",
       "<table border=\"1\" class=\"dataframe\">\n",
       "  <thead>\n",
       "    <tr style=\"text-align: right;\">\n",
       "      <th></th>\n",
       "      <th>id</th>\n",
       "      <th>first_name</th>\n",
       "      <th>last_name</th>\n",
       "      <th>graduation</th>\n",
       "      <th>city.id</th>\n",
       "      <th>city.title</th>\n",
       "      <th>country.id</th>\n",
       "      <th>country.title</th>\n",
       "      <th>education_form</th>\n",
       "      <th>education_status</th>\n",
       "      <th>faculty</th>\n",
       "      <th>faculty_name</th>\n",
       "      <th>relation</th>\n",
       "      <th>relation_partner.id</th>\n",
       "      <th>sex</th>\n",
       "      <th>status</th>\n",
       "      <th>bdate</th>\n",
       "      <th>age3</th>\n",
       "    </tr>\n",
       "  </thead>\n",
       "  <tbody>\n",
       "    <tr>\n",
       "      <th>0</th>\n",
       "      <td>88111</td>\n",
       "      <td>Анастасия</td>\n",
       "      <td>Ахметзянова</td>\n",
       "      <td>0.0</td>\n",
       "      <td>2.0</td>\n",
       "      <td>Санкт-Петербург</td>\n",
       "      <td>1.0</td>\n",
       "      <td>Россия</td>\n",
       "      <td>NaN</td>\n",
       "      <td>NaN</td>\n",
       "      <td>0.0</td>\n",
       "      <td>NaN</td>\n",
       "      <td>3.0</td>\n",
       "      <td>NaN</td>\n",
       "      <td>1</td>\n",
       "      <td>All you need is love</td>\n",
       "      <td>01.01.2019</td>\n",
       "      <td>0</td>\n",
       "    </tr>\n",
       "    <tr>\n",
       "      <th>1</th>\n",
       "      <td>3567843</td>\n",
       "      <td>Константин</td>\n",
       "      <td>Стрельцов</td>\n",
       "      <td>2004.0</td>\n",
       "      <td>284.0</td>\n",
       "      <td>Караганда</td>\n",
       "      <td>4.0</td>\n",
       "      <td>Казахстан</td>\n",
       "      <td>Очное отделение</td>\n",
       "      <td>NaN</td>\n",
       "      <td>9918.0</td>\n",
       "      <td>Факультет инновационных технологий (Информацио...</td>\n",
       "      <td>4.0</td>\n",
       "      <td>NaN</td>\n",
       "      <td>2</td>\n",
       "      <td>NaN</td>\n",
       "      <td>19.7.1982</td>\n",
       "      <td>37</td>\n",
       "    </tr>\n",
       "    <tr>\n",
       "      <th>2</th>\n",
       "      <td>9067562</td>\n",
       "      <td>Даша</td>\n",
       "      <td>Баскакова</td>\n",
       "      <td>0.0</td>\n",
       "      <td>99.0</td>\n",
       "      <td>Новосибирск</td>\n",
       "      <td>1.0</td>\n",
       "      <td>Россия</td>\n",
       "      <td>NaN</td>\n",
       "      <td>NaN</td>\n",
       "      <td>0.0</td>\n",
       "      <td>NaN</td>\n",
       "      <td>4.0</td>\n",
       "      <td>1663884.0</td>\n",
       "      <td>1</td>\n",
       "      <td>NaN</td>\n",
       "      <td>01.01.2019</td>\n",
       "      <td>0</td>\n",
       "    </tr>\n",
       "    <tr>\n",
       "      <th>3</th>\n",
       "      <td>7862738</td>\n",
       "      <td>Ольга</td>\n",
       "      <td>Стрельцова</td>\n",
       "      <td>0.0</td>\n",
       "      <td>284.0</td>\n",
       "      <td>Караганда</td>\n",
       "      <td>4.0</td>\n",
       "      <td>Казахстан</td>\n",
       "      <td>NaN</td>\n",
       "      <td>NaN</td>\n",
       "      <td>0.0</td>\n",
       "      <td>NaN</td>\n",
       "      <td>4.0</td>\n",
       "      <td>NaN</td>\n",
       "      <td>1</td>\n",
       "      <td>Happiness is the truth</td>\n",
       "      <td>11.1.1983</td>\n",
       "      <td>36</td>\n",
       "    </tr>\n",
       "    <tr>\n",
       "      <th>4</th>\n",
       "      <td>202788920</td>\n",
       "      <td>Margo</td>\n",
       "      <td>Almatyfashion</td>\n",
       "      <td>0.0</td>\n",
       "      <td>183.0</td>\n",
       "      <td>Алматы</td>\n",
       "      <td>4.0</td>\n",
       "      <td>Казахстан</td>\n",
       "      <td>NaN</td>\n",
       "      <td>NaN</td>\n",
       "      <td>0.0</td>\n",
       "      <td>NaN</td>\n",
       "      <td>0.0</td>\n",
       "      <td>NaN</td>\n",
       "      <td>1</td>\n",
       "      <td>Тел 87078143309</td>\n",
       "      <td>01.01.2019</td>\n",
       "      <td>0</td>\n",
       "    </tr>\n",
       "  </tbody>\n",
       "</table>\n",
       "</div>"
      ],
      "text/plain": [
       "          id  first_name      last_name  graduation  city.id       city.title  \\\n",
       "0      88111   Анастасия    Ахметзянова         0.0      2.0  Санкт-Петербург   \n",
       "1    3567843  Константин      Стрельцов      2004.0    284.0        Караганда   \n",
       "2    9067562        Даша      Баскакова         0.0     99.0      Новосибирск   \n",
       "3    7862738       Ольга     Стрельцова         0.0    284.0        Караганда   \n",
       "4  202788920       Margo  Almatyfashion         0.0    183.0           Алматы   \n",
       "\n",
       "   country.id country.title   education_form education_status  faculty  \\\n",
       "0         1.0        Россия              NaN              NaN      0.0   \n",
       "1         4.0     Казахстан  Очное отделение              NaN   9918.0   \n",
       "2         1.0        Россия              NaN              NaN      0.0   \n",
       "3         4.0     Казахстан              NaN              NaN      0.0   \n",
       "4         4.0     Казахстан              NaN              NaN      0.0   \n",
       "\n",
       "                                        faculty_name  relation  \\\n",
       "0                                                NaN       3.0   \n",
       "1  Факультет инновационных технологий (Информацио...       4.0   \n",
       "2                                                NaN       4.0   \n",
       "3                                                NaN       4.0   \n",
       "4                                                NaN       0.0   \n",
       "\n",
       "   relation_partner.id  sex                  status       bdate  age3  \n",
       "0                  NaN    1    All you need is love  01.01.2019     0  \n",
       "1                  NaN    2                     NaN   19.7.1982    37  \n",
       "2            1663884.0    1                     NaN  01.01.2019     0  \n",
       "3                  NaN    1  Happiness is the truth   11.1.1983    36  \n",
       "4                  NaN    1         Тел 87078143309  01.01.2019     0  "
      ]
     },
     "execution_count": 40,
     "metadata": {},
     "output_type": "execute_result"
    }
   ],
   "source": [
    "df_f.head()"
   ]
  },
  {
   "cell_type": "markdown",
   "metadata": {},
   "source": [
    "### Получение данных - посты\n",
    "собираем в цикле посты каждого друга"
   ]
  },
  {
   "cell_type": "code",
   "execution_count": 17,
   "metadata": {},
   "outputs": [],
   "source": [
    "users_list = df_f.id"
   ]
  },
  {
   "cell_type": "code",
   "execution_count": 18,
   "metadata": {},
   "outputs": [],
   "source": [
    "#df = df[df['text'].notnull()]\n",
    "#cols = ['owner_id','text','comments.count','date','post_source.platform','likes.count','reposts.count']\n",
    "#df = df[cols]"
   ]
  },
  {
   "cell_type": "code",
   "execution_count": null,
   "metadata": {},
   "outputs": [],
   "source": [
    "df_all = pd.DataFrame()\n",
    "for user_id in users_list:\n",
    "        print(user_id)\n",
    "        posts =  get_posts(user_id,vk_api)\n",
    "        df = transformDataToDf(posts, 'c:/data.txt', 'c:/data.csv')\n",
    "        df = df[df['text'].notnull()]\n",
    "        cols = ['owner_id','text','comments.count','date','likes.count','reposts.count']\n",
    "        df = df[cols]\n",
    "        df_all = df_all.append(df)\n",
    "        "
   ]
  },
  {
   "cell_type": "code",
   "execution_count": null,
   "metadata": {},
   "outputs": [],
   "source": [
    "#выгружаем в файл для повторного использования без обращения к вк\n",
    "df_all.to_csv('c:/data_all.csv',sep = ',', encoding='utf-8')"
   ]
  },
  {
   "cell_type": "code",
   "execution_count": 122,
   "metadata": {},
   "outputs": [],
   "source": [
    "#считаваем из файла, чтобы не обращатья повторно к вк (после первого прохода, запускаем только получение из файла)\n",
    "df_a = pd.read_csv('c:/data_all.csv',  sep=',')"
   ]
  },
  {
   "cell_type": "code",
   "execution_count": 123,
   "metadata": {},
   "outputs": [],
   "source": [
    "#объединяем данные с постов с информацией о пользователе\n",
    "df_u = pd.merge(df_a,df_f, how = 'inner',left_on=\"owner_id\" , right_on=\"id\" )"
   ]
  },
  {
   "cell_type": "code",
   "execution_count": 124,
   "metadata": {},
   "outputs": [],
   "source": [
    "df_val = df_u[df_u['age3']==0]\n",
    "df_u = df_u[df_u['age3']>0]\n",
    "\n",
    "\n",
    "\n"
   ]
  },
  {
   "cell_type": "markdown",
   "metadata": {},
   "source": [
    "### Обработка текста"
   ]
  },
  {
   "cell_type": "code",
   "execution_count": 164,
   "metadata": {},
   "outputs": [],
   "source": [
    "text = df_u['text']"
   ]
  },
  {
   "cell_type": "code",
   "execution_count": 165,
   "metadata": {},
   "outputs": [],
   "source": [
    "from nltk.corpus import stopwords \n",
    "from nltk.stem.wordnet import WordNetLemmatizer\n",
    "import string\n",
    "\n",
    "\n",
    "stop = set(stopwords.words('russian'))\n",
    "exclude = set(string.punctuation) \n",
    "lemma = WordNetLemmatizer()\n",
    "\n",
    "\n",
    "def clean(doc):\n",
    "    #print(doc)\n",
    "    doc = str(doc)\n",
    "    stop_free = \" \".join([i for i in doc.lower().split() if i not in stop])\n",
    "    punc_free = ''.join([ch for ch in stop_free if ch not in exclude])\n",
    "    normalized = \" \".join(lemma.lemmatize(word) for word in punc_free.split())\n",
    "    return normalized\n",
    "\n",
    "\n"
   ]
  },
  {
   "cell_type": "code",
   "execution_count": 166,
   "metadata": {},
   "outputs": [
    {
     "name": "stdout",
     "output_type": "stream",
     "text": [
      "готовимся новогоднему выступлению\n"
     ]
    }
   ],
   "source": [
    "doc_clean = [clean(doc) for doc in df_u['text']]   \n",
    "print(doc_clean[149])"
   ]
  },
  {
   "cell_type": "code",
   "execution_count": 69,
   "metadata": {},
   "outputs": [],
   "source": [
    "#import gensim\n",
    "#from gensim import corpora\n",
    "\n",
    "# Creating the term dictionary of our courpus, where every unique term is assigned an index. \n",
    "#dictionary = corpora.Dictionary(doc_clean)\n",
    "\n",
    "# Converting list of documents (corpus) into Document Term Matrix using dictionary prepared above.\n",
    "#doc_term_matrix = [dictionary.doc2bow(doc) for doc in doc_clean]"
   ]
  },
  {
   "cell_type": "code",
   "execution_count": 167,
   "metadata": {},
   "outputs": [
    {
     "data": {
      "text/plain": [
       "matrix([[0., 0., 0., ..., 0., 0., 0.],\n",
       "        [0., 0., 0., ..., 0., 0., 0.],\n",
       "        [0., 0., 0., ..., 0., 0., 0.],\n",
       "        ...,\n",
       "        [0., 0., 0., ..., 0., 0., 0.],\n",
       "        [0., 0., 0., ..., 0., 0., 0.],\n",
       "        [0., 0., 0., ..., 0., 0., 0.]])"
      ]
     },
     "execution_count": 167,
     "metadata": {},
     "output_type": "execute_result"
    }
   ],
   "source": [
    "from sklearn.feature_extraction.text import TfidfVectorizer\n",
    "vectorizer = TfidfVectorizer()\n",
    "features = vectorizer.fit_transform(doc_clean).todense()\n",
    "features"
   ]
  },
  {
   "cell_type": "code",
   "execution_count": 174,
   "metadata": {},
   "outputs": [],
   "source": [
    "y = df_u['age3']\n",
    "X = features"
   ]
  },
  {
   "cell_type": "markdown",
   "metadata": {},
   "source": [
    "Попробуем линейную регрессию как baseline\n"
   ]
  },
  {
   "cell_type": "code",
   "execution_count": 175,
   "metadata": {},
   "outputs": [],
   "source": [
    "from sklearn import cross_validation, tree, linear_model\n",
    "from sklearn.linear_model import LinearRegression\n",
    "from sklearn.metrics import explained_variance_score\n",
    "from sklearn.metrics import mean_squared_error, r2_score\n",
    "from sklearn.model_selection import RandomizedSearchCV\n",
    "regr = linear_model.LinearRegression()"
   ]
  },
  {
   "cell_type": "code",
   "execution_count": 171,
   "metadata": {},
   "outputs": [],
   "source": [
    "#df_u['tokens'] = df_u['text'].apply(lambda x: clean(x).split())\n"
   ]
  },
  {
   "cell_type": "code",
   "execution_count": 172,
   "metadata": {},
   "outputs": [],
   "source": [
    "#df_u['vector'] = df_u['tokens'].apply(lambda x: dictionary.doc2bow(x))"
   ]
  },
  {
   "cell_type": "code",
   "execution_count": null,
   "metadata": {},
   "outputs": [],
   "source": [
    "#cols = ['id', 'city.id','country.id','relation','sex','graduation']\n",
    "#X = df_u[cols]\n",
    "#y = df_u['age3']"
   ]
  },
  {
   "cell_type": "code",
   "execution_count": 176,
   "metadata": {},
   "outputs": [],
   "source": [
    "X_train, X_test, y_train, y_test = train_test_split(X, y, random_state=42)"
   ]
  },
  {
   "cell_type": "code",
   "execution_count": 177,
   "metadata": {},
   "outputs": [],
   "source": [
    "regr.fit(X_train, y_train)\n",
    "y_pred = regr.predict(X_test)"
   ]
  },
  {
   "cell_type": "code",
   "execution_count": 178,
   "metadata": {},
   "outputs": [
    {
     "name": "stdout",
     "output_type": "stream",
     "text": [
      "MSE: 1568606792827209747791872.00 \n"
     ]
    }
   ],
   "source": [
    "mse = mean_squared_error(y_test, y_pred)\n",
    "print(\"MSE: %.2f \" % mse)"
   ]
  },
  {
   "cell_type": "code",
   "execution_count": null,
   "metadata": {},
   "outputs": [],
   "source": []
  }
 ],
 "metadata": {
  "kernelspec": {
   "display_name": "Python 3",
   "language": "python",
   "name": "python3"
  },
  "language_info": {
   "codemirror_mode": {
    "name": "ipython",
    "version": 3
   },
   "file_extension": ".py",
   "mimetype": "text/x-python",
   "name": "python",
   "nbconvert_exporter": "python",
   "pygments_lexer": "ipython3",
   "version": "3.6.5"
  }
 },
 "nbformat": 4,
 "nbformat_minor": 2
}

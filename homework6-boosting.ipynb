{
 "cells": [
  {
   "cell_type": "markdown",
   "metadata": {},
   "source": [
    "# https://www.kaggle.com/c/mercari-price-suggestion-challenge \n",
    "# https://www.kaggle.com/c/home-credit-default-risk\n",
    "\n",
    "Выбрать одно из двух соревнований. Выбирайте по данным, с которыми вам интереснее работать."
   ]
  },
  {
   "cell_type": "code",
   "execution_count": 1,
   "metadata": {},
   "outputs": [],
   "source": [
    "import time\n",
    "import re\n",
    "from __future__ import print_function\n",
    "from collections import defaultdict\n",
    "\n",
    "import pandas as pd\n",
    "import numpy as np\n",
    "import matplotlib\n",
    "import matplotlib.pyplot as plt\n",
    "import matplotlib.cm as cm\n",
    "import seaborn as sns\n",
    "\n",
    "from sklearn.base import BaseEstimator, TransformerMixin\n",
    "from sklearn.pipeline import make_union, make_pipeline\n",
    "from sklearn.preprocessing import FunctionTransformer, StandardScaler, LabelEncoder, MinMaxScaler,  Imputer, LabelBinarizer, OneHotEncoder\n",
    "from sklearn.feature_extraction import DictVectorizer\n",
    "from sklearn.linear_model import LogisticRegressionCV\n",
    "from sklearn.metrics import accuracy_score\n",
    "from sklearn.metrics import mean_squared_error, r2_score\n",
    "from sklearn.model_selection import RandomizedSearchCV\n",
    "\n",
    "# Ансамбли\n",
    "\n",
    "import xgboost as xgb\n",
    "import lightgbm as lgb\n",
    "\n",
    "%matplotlib inline\n",
    "plt.rcParams[\"figure.figsize\"] = (15, 8)\n",
    "pd.options.display.float_format = '{:.2f}'.format"
   ]
  },
  {
   "cell_type": "markdown",
   "metadata": {},
   "source": [
    "### Используйте параметр nrows, чтобы уменьшить выборку и сделать базовый разведочный анализ данных"
   ]
  },
  {
   "cell_type": "code",
   "execution_count": 21,
   "metadata": {},
   "outputs": [],
   "source": [
    "// df = pd.read_csv('e:/DS/ds_hw/mercari/train.tsv', nrows=100000, sep='\\t')"
   ]
  },
  {
   "cell_type": "code",
   "execution_count": 2,
   "metadata": {},
   "outputs": [],
   "source": [
    "df = pd.read_csv('e:/DS/ds_hw/mercari/train.tsv',  sep='\\t')"
   ]
  },
  {
   "cell_type": "code",
   "execution_count": 3,
   "metadata": {},
   "outputs": [
    {
     "data": {
      "text/html": [
       "<div>\n",
       "<style scoped>\n",
       "    .dataframe tbody tr th:only-of-type {\n",
       "        vertical-align: middle;\n",
       "    }\n",
       "\n",
       "    .dataframe tbody tr th {\n",
       "        vertical-align: top;\n",
       "    }\n",
       "\n",
       "    .dataframe thead th {\n",
       "        text-align: right;\n",
       "    }\n",
       "</style>\n",
       "<table border=\"1\" class=\"dataframe\">\n",
       "  <thead>\n",
       "    <tr style=\"text-align: right;\">\n",
       "      <th></th>\n",
       "      <th>train_id</th>\n",
       "      <th>name</th>\n",
       "      <th>item_condition_id</th>\n",
       "      <th>category_name</th>\n",
       "      <th>brand_name</th>\n",
       "      <th>price</th>\n",
       "      <th>shipping</th>\n",
       "      <th>item_description</th>\n",
       "    </tr>\n",
       "  </thead>\n",
       "  <tbody>\n",
       "    <tr>\n",
       "      <th>0</th>\n",
       "      <td>0</td>\n",
       "      <td>MLB Cincinnati Reds T Shirt Size XL</td>\n",
       "      <td>3</td>\n",
       "      <td>Men/Tops/T-shirts</td>\n",
       "      <td>NaN</td>\n",
       "      <td>10.00</td>\n",
       "      <td>1</td>\n",
       "      <td>No description yet</td>\n",
       "    </tr>\n",
       "    <tr>\n",
       "      <th>1</th>\n",
       "      <td>1</td>\n",
       "      <td>Razer BlackWidow Chroma Keyboard</td>\n",
       "      <td>3</td>\n",
       "      <td>Electronics/Computers &amp; Tablets/Components &amp; P...</td>\n",
       "      <td>Razer</td>\n",
       "      <td>52.00</td>\n",
       "      <td>0</td>\n",
       "      <td>This keyboard is in great condition and works ...</td>\n",
       "    </tr>\n",
       "    <tr>\n",
       "      <th>2</th>\n",
       "      <td>2</td>\n",
       "      <td>AVA-VIV Blouse</td>\n",
       "      <td>1</td>\n",
       "      <td>Women/Tops &amp; Blouses/Blouse</td>\n",
       "      <td>Target</td>\n",
       "      <td>10.00</td>\n",
       "      <td>1</td>\n",
       "      <td>Adorable top with a hint of lace and a key hol...</td>\n",
       "    </tr>\n",
       "    <tr>\n",
       "      <th>3</th>\n",
       "      <td>3</td>\n",
       "      <td>Leather Horse Statues</td>\n",
       "      <td>1</td>\n",
       "      <td>Home/Home Décor/Home Décor Accents</td>\n",
       "      <td>NaN</td>\n",
       "      <td>35.00</td>\n",
       "      <td>1</td>\n",
       "      <td>New with tags. Leather horses. Retail for [rm]...</td>\n",
       "    </tr>\n",
       "    <tr>\n",
       "      <th>4</th>\n",
       "      <td>4</td>\n",
       "      <td>24K GOLD plated rose</td>\n",
       "      <td>1</td>\n",
       "      <td>Women/Jewelry/Necklaces</td>\n",
       "      <td>NaN</td>\n",
       "      <td>44.00</td>\n",
       "      <td>0</td>\n",
       "      <td>Complete with certificate of authenticity</td>\n",
       "    </tr>\n",
       "  </tbody>\n",
       "</table>\n",
       "</div>"
      ],
      "text/plain": [
       "   train_id                                 name  item_condition_id  \\\n",
       "0         0  MLB Cincinnati Reds T Shirt Size XL                  3   \n",
       "1         1     Razer BlackWidow Chroma Keyboard                  3   \n",
       "2         2                       AVA-VIV Blouse                  1   \n",
       "3         3                Leather Horse Statues                  1   \n",
       "4         4                 24K GOLD plated rose                  1   \n",
       "\n",
       "                                       category_name brand_name  price  \\\n",
       "0                                  Men/Tops/T-shirts        NaN  10.00   \n",
       "1  Electronics/Computers & Tablets/Components & P...      Razer  52.00   \n",
       "2                        Women/Tops & Blouses/Blouse     Target  10.00   \n",
       "3                 Home/Home Décor/Home Décor Accents        NaN  35.00   \n",
       "4                            Women/Jewelry/Necklaces        NaN  44.00   \n",
       "\n",
       "   shipping                                   item_description  \n",
       "0         1                                 No description yet  \n",
       "1         0  This keyboard is in great condition and works ...  \n",
       "2         1  Adorable top with a hint of lace and a key hol...  \n",
       "3         1  New with tags. Leather horses. Retail for [rm]...  \n",
       "4         0          Complete with certificate of authenticity  "
      ]
     },
     "execution_count": 3,
     "metadata": {},
     "output_type": "execute_result"
    }
   ],
   "source": [
    "df.head()"
   ]
  },
  {
   "cell_type": "code",
   "execution_count": 4,
   "metadata": {},
   "outputs": [
    {
     "name": "stdout",
     "output_type": "stream",
     "text": [
      "<class 'pandas.core.frame.DataFrame'>\n",
      "RangeIndex: 1482535 entries, 0 to 1482534\n",
      "Data columns (total 8 columns):\n",
      "train_id             1482535 non-null int64\n",
      "name                 1482535 non-null object\n",
      "item_condition_id    1482535 non-null int64\n",
      "category_name        1476208 non-null object\n",
      "brand_name           849853 non-null object\n",
      "price                1482535 non-null float64\n",
      "shipping             1482535 non-null int64\n",
      "item_description     1482531 non-null object\n",
      "dtypes: float64(1), int64(3), object(4)\n",
      "memory usage: 90.5+ MB\n"
     ]
    }
   ],
   "source": [
    "df.info()"
   ]
  },
  {
   "cell_type": "code",
   "execution_count": 10,
   "metadata": {},
   "outputs": [],
   "source": [
    "df_test = pd.read_csv('e:/DS/ds_hw/mercari/test.tsv', sep='\\t')"
   ]
  },
  {
   "cell_type": "code",
   "execution_count": 11,
   "metadata": {},
   "outputs": [
    {
     "name": "stdout",
     "output_type": "stream",
     "text": [
      "<class 'pandas.core.frame.DataFrame'>\n",
      "RangeIndex: 693359 entries, 0 to 693358\n",
      "Data columns (total 7 columns):\n",
      "test_id              693359 non-null int64\n",
      "name                 693359 non-null object\n",
      "item_condition_id    693359 non-null int64\n",
      "category_name        690301 non-null object\n",
      "brand_name           397834 non-null object\n",
      "shipping             693359 non-null int64\n",
      "item_description     693359 non-null object\n",
      "dtypes: int64(3), object(4)\n",
      "memory usage: 37.0+ MB\n"
     ]
    }
   ],
   "source": [
    "df_test.info()"
   ]
  },
  {
   "cell_type": "code",
   "execution_count": 12,
   "metadata": {},
   "outputs": [
    {
     "data": {
      "text/html": [
       "<div>\n",
       "<style scoped>\n",
       "    .dataframe tbody tr th:only-of-type {\n",
       "        vertical-align: middle;\n",
       "    }\n",
       "\n",
       "    .dataframe tbody tr th {\n",
       "        vertical-align: top;\n",
       "    }\n",
       "\n",
       "    .dataframe thead th {\n",
       "        text-align: right;\n",
       "    }\n",
       "</style>\n",
       "<table border=\"1\" class=\"dataframe\">\n",
       "  <thead>\n",
       "    <tr style=\"text-align: right;\">\n",
       "      <th></th>\n",
       "      <th>test_id</th>\n",
       "      <th>name</th>\n",
       "      <th>item_condition_id</th>\n",
       "      <th>category_name</th>\n",
       "      <th>brand_name</th>\n",
       "      <th>shipping</th>\n",
       "      <th>item_description</th>\n",
       "    </tr>\n",
       "  </thead>\n",
       "  <tbody>\n",
       "    <tr>\n",
       "      <th>0</th>\n",
       "      <td>0</td>\n",
       "      <td>Breast cancer \"I fight like a girl\" ring</td>\n",
       "      <td>1</td>\n",
       "      <td>Women/Jewelry/Rings</td>\n",
       "      <td>NaN</td>\n",
       "      <td>1</td>\n",
       "      <td>Size 7</td>\n",
       "    </tr>\n",
       "    <tr>\n",
       "      <th>1</th>\n",
       "      <td>1</td>\n",
       "      <td>25 pcs NEW 7.5\"x12\" Kraft Bubble Mailers</td>\n",
       "      <td>1</td>\n",
       "      <td>Other/Office supplies/Shipping Supplies</td>\n",
       "      <td>NaN</td>\n",
       "      <td>1</td>\n",
       "      <td>25 pcs NEW 7.5\"x12\" Kraft Bubble Mailers Lined...</td>\n",
       "    </tr>\n",
       "    <tr>\n",
       "      <th>2</th>\n",
       "      <td>2</td>\n",
       "      <td>Coach bag</td>\n",
       "      <td>1</td>\n",
       "      <td>Vintage &amp; Collectibles/Bags and Purses/Handbag</td>\n",
       "      <td>Coach</td>\n",
       "      <td>1</td>\n",
       "      <td>Brand new coach bag. Bought for [rm] at a Coac...</td>\n",
       "    </tr>\n",
       "    <tr>\n",
       "      <th>3</th>\n",
       "      <td>3</td>\n",
       "      <td>Floral Kimono</td>\n",
       "      <td>2</td>\n",
       "      <td>Women/Sweaters/Cardigan</td>\n",
       "      <td>NaN</td>\n",
       "      <td>0</td>\n",
       "      <td>-floral kimono -never worn -lightweight and pe...</td>\n",
       "    </tr>\n",
       "    <tr>\n",
       "      <th>4</th>\n",
       "      <td>4</td>\n",
       "      <td>Life after Death</td>\n",
       "      <td>3</td>\n",
       "      <td>Other/Books/Religion &amp; Spirituality</td>\n",
       "      <td>NaN</td>\n",
       "      <td>1</td>\n",
       "      <td>Rediscovering life after the loss of a loved o...</td>\n",
       "    </tr>\n",
       "  </tbody>\n",
       "</table>\n",
       "</div>"
      ],
      "text/plain": [
       "   test_id                                      name  item_condition_id  \\\n",
       "0        0  Breast cancer \"I fight like a girl\" ring                  1   \n",
       "1        1  25 pcs NEW 7.5\"x12\" Kraft Bubble Mailers                  1   \n",
       "2        2                                 Coach bag                  1   \n",
       "3        3                             Floral Kimono                  2   \n",
       "4        4                          Life after Death                  3   \n",
       "\n",
       "                                    category_name brand_name  shipping  \\\n",
       "0                             Women/Jewelry/Rings        NaN         1   \n",
       "1         Other/Office supplies/Shipping Supplies        NaN         1   \n",
       "2  Vintage & Collectibles/Bags and Purses/Handbag      Coach         1   \n",
       "3                         Women/Sweaters/Cardigan        NaN         0   \n",
       "4             Other/Books/Religion & Spirituality        NaN         1   \n",
       "\n",
       "                                    item_description  \n",
       "0                                             Size 7  \n",
       "1  25 pcs NEW 7.5\"x12\" Kraft Bubble Mailers Lined...  \n",
       "2  Brand new coach bag. Bought for [rm] at a Coac...  \n",
       "3  -floral kimono -never worn -lightweight and pe...  \n",
       "4  Rediscovering life after the loss of a loved o...  "
      ]
     },
     "execution_count": 12,
     "metadata": {},
     "output_type": "execute_result"
    }
   ],
   "source": [
    "df_test.head()"
   ]
  },
  {
   "cell_type": "markdown",
   "metadata": {},
   "source": [
    "Посмотрим на данные, общие статистики"
   ]
  },
  {
   "cell_type": "code",
   "execution_count": 6,
   "metadata": {},
   "outputs": [
    {
     "data": {
      "text/plain": [
       "(2009.0, 0.0, 26.737516146330442, 17.0)"
      ]
     },
     "execution_count": 6,
     "metadata": {},
     "output_type": "execute_result"
    }
   ],
   "source": [
    "df['price'].max(), df['price'].min(), df['price'].mean(),   df['price'].median()"
   ]
  },
  {
   "cell_type": "markdown",
   "metadata": {},
   "source": [
    "Посмотрим распределение товаров по категориям"
   ]
  },
  {
   "cell_type": "code",
   "execution_count": 114,
   "metadata": {},
   "outputs": [],
   "source": [
    "def split_cat(text):\n",
    "    try: return text.split(\"/\")\n",
    "    except: return (\"No Label\", \"No Label\", \"No Label\")"
   ]
  },
  {
   "cell_type": "code",
   "execution_count": 117,
   "metadata": {},
   "outputs": [],
   "source": [
    "x = df['main_category'].value_counts().index.values.astype('str')\n",
    "y = df['main_category'].value_counts().values\n",
    "pct = [(\"%.2f\"%(v*100))+\"%\"for v in (y/len(df))]"
   ]
  },
  {
   "cell_type": "code",
   "execution_count": 120,
   "metadata": {},
   "outputs": [
    {
     "data": {
      "text/plain": [
       "(10, 113, 827, 1200)"
      ]
     },
     "execution_count": 120,
     "metadata": {},
     "output_type": "execute_result"
    }
   ],
   "source": [
    "df['main_category'].nunique(), df['subcat_1'].nunique(), df['subcat_2'].nunique(), df['category_name'].nunique()"
   ]
  },
  {
   "cell_type": "code",
   "execution_count": 121,
   "metadata": {},
   "outputs": [
    {
     "data": {
      "image/png": "[encoded data removed]",
      "text/plain": [
       "<Figure size 432x288 with 1 Axes>"
      ]
     },
     "metadata": {},
     "output_type": "display_data"
    }
   ],
   "source": [
    "plt.bar(x,y,width=.3)\n",
    "plt.xticks(x,x, rotation='vertical')\n",
    "plt.xlabel('Категории')\n",
    "plt.ylabel('Количество ')\n",
    "plt.title('Количество товаров в категории')\n",
    "plt.show()"
   ]
  },
  {
   "cell_type": "markdown",
   "metadata": {},
   "source": [
    "Категориии детализированы очень подробно, поэтому каждый товар в опрделенной категории, очень схожи, те если \n",
    "это джинсовые леггинсы, то каждый представитель этой категории очень похож на любой другой. Поэтому учитывая бранд \n",
    "и состояние можно уже сделать предсказание цены, с каким-то усреднением.\n",
    "\n"
   ]
  },
  {
   "cell_type": "markdown",
   "metadata": {},
   "source": [
    "### 1.Обработаем пустые значения и делаем encoding категориальных переменных\n",
    "брэнд - заменим на missing, а пустые категории удалим"
   ]
  },
  {
   "cell_type": "code",
   "execution_count": 5,
   "metadata": {},
   "outputs": [],
   "source": [
    "df.brand_name.fillna(value=\"Missing\", inplace=True)\n"
   ]
  },
  {
   "cell_type": "code",
   "execution_count": 6,
   "metadata": {},
   "outputs": [
    {
     "data": {
      "text/plain": [
       "train_id             0\n",
       "name                 0\n",
       "item_condition_id    0\n",
       "category_name        0\n",
       "brand_name           0\n",
       "price                0\n",
       "shipping             0\n",
       "item_description     0\n",
       "dtype: int64"
      ]
     },
     "execution_count": 6,
     "metadata": {},
     "output_type": "execute_result"
    }
   ],
   "source": [
    "df[df['brand_name'].isnull()].count()"
   ]
  },
  {
   "cell_type": "code",
   "execution_count": 7,
   "metadata": {},
   "outputs": [],
   "source": [
    "df = df[df['category_name'].notnull()]"
   ]
  },
  {
   "cell_type": "code",
   "execution_count": 9,
   "metadata": {},
   "outputs": [],
   "source": [
    "le = LabelEncoder()\n",
    "le.fit(df.brand_name)\n",
    "df['brand_name_i'] = le.transform(df.brand_name)\n",
    "\n",
    "le.fit(df.category_name)\n",
    "df['category_name_i'] = le.transform(df.category_name)"
   ]
  },
  {
   "cell_type": "code",
   "execution_count": 10,
   "metadata": {},
   "outputs": [],
   "source": [
    "le.fit(df.name)\n",
    "df['name_i'] = le.transform(df.name)"
   ]
  },
  {
   "cell_type": "code",
   "execution_count": 12,
   "metadata": {},
   "outputs": [
    {
     "data": {
      "text/html": [
       "<div>\n",
       "<style scoped>\n",
       "    .dataframe tbody tr th:only-of-type {\n",
       "        vertical-align: middle;\n",
       "    }\n",
       "\n",
       "    .dataframe tbody tr th {\n",
       "        vertical-align: top;\n",
       "    }\n",
       "\n",
       "    .dataframe thead th {\n",
       "        text-align: right;\n",
       "    }\n",
       "</style>\n",
       "<table border=\"1\" class=\"dataframe\">\n",
       "  <thead>\n",
       "    <tr style=\"text-align: right;\">\n",
       "      <th></th>\n",
       "      <th>train_id</th>\n",
       "      <th>name</th>\n",
       "      <th>item_condition_id</th>\n",
       "      <th>category_name</th>\n",
       "      <th>brand_name</th>\n",
       "      <th>price</th>\n",
       "      <th>shipping</th>\n",
       "      <th>item_description</th>\n",
       "      <th>brand_name_i</th>\n",
       "      <th>category_name_i</th>\n",
       "      <th>name_i</th>\n",
       "    </tr>\n",
       "  </thead>\n",
       "  <tbody>\n",
       "    <tr>\n",
       "      <th>0</th>\n",
       "      <td>0</td>\n",
       "      <td>MLB Cincinnati Reds T Shirt Size XL</td>\n",
       "      <td>3</td>\n",
       "      <td>Men/Tops/T-shirts</td>\n",
       "      <td>Missing</td>\n",
       "      <td>10.00</td>\n",
       "      <td>1</td>\n",
       "      <td>No description yet</td>\n",
       "      <td>2876</td>\n",
       "      <td>808</td>\n",
       "      <td>637962</td>\n",
       "    </tr>\n",
       "    <tr>\n",
       "      <th>1</th>\n",
       "      <td>1</td>\n",
       "      <td>Razer BlackWidow Chroma Keyboard</td>\n",
       "      <td>3</td>\n",
       "      <td>Electronics/Computers &amp; Tablets/Components &amp; P...</td>\n",
       "      <td>Razer</td>\n",
       "      <td>52.00</td>\n",
       "      <td>0</td>\n",
       "      <td>This keyboard is in great condition and works ...</td>\n",
       "      <td>3545</td>\n",
       "      <td>86</td>\n",
       "      <td>900109</td>\n",
       "    </tr>\n",
       "    <tr>\n",
       "      <th>2</th>\n",
       "      <td>2</td>\n",
       "      <td>AVA-VIV Blouse</td>\n",
       "      <td>1</td>\n",
       "      <td>Women/Tops &amp; Blouses/Blouse</td>\n",
       "      <td>Target</td>\n",
       "      <td>10.00</td>\n",
       "      <td>1</td>\n",
       "      <td>Adorable top with a hint of lace and a key hol...</td>\n",
       "      <td>4166</td>\n",
       "      <td>1254</td>\n",
       "      <td>91126</td>\n",
       "    </tr>\n",
       "    <tr>\n",
       "      <th>3</th>\n",
       "      <td>3</td>\n",
       "      <td>Leather Horse Statues</td>\n",
       "      <td>1</td>\n",
       "      <td>Home/Home Décor/Home Décor Accents</td>\n",
       "      <td>Missing</td>\n",
       "      <td>35.00</td>\n",
       "      <td>1</td>\n",
       "      <td>New with tags. Leather horses. Retail for [rm]...</td>\n",
       "      <td>2876</td>\n",
       "      <td>485</td>\n",
       "      <td>558553</td>\n",
       "    </tr>\n",
       "    <tr>\n",
       "      <th>4</th>\n",
       "      <td>4</td>\n",
       "      <td>24K GOLD plated rose</td>\n",
       "      <td>1</td>\n",
       "      <td>Women/Jewelry/Necklaces</td>\n",
       "      <td>Missing</td>\n",
       "      <td>44.00</td>\n",
       "      <td>0</td>\n",
       "      <td>Complete with certificate of authenticity</td>\n",
       "      <td>2876</td>\n",
       "      <td>1181</td>\n",
       "      <td>45278</td>\n",
       "    </tr>\n",
       "  </tbody>\n",
       "</table>\n",
       "</div>"
      ],
      "text/plain": [
       "   train_id                                 name  item_condition_id  \\\n",
       "0         0  MLB Cincinnati Reds T Shirt Size XL                  3   \n",
       "1         1     Razer BlackWidow Chroma Keyboard                  3   \n",
       "2         2                       AVA-VIV Blouse                  1   \n",
       "3         3                Leather Horse Statues                  1   \n",
       "4         4                 24K GOLD plated rose                  1   \n",
       "\n",
       "                                       category_name brand_name  price  \\\n",
       "0                                  Men/Tops/T-shirts    Missing  10.00   \n",
       "1  Electronics/Computers & Tablets/Components & P...      Razer  52.00   \n",
       "2                        Women/Tops & Blouses/Blouse     Target  10.00   \n",
       "3                 Home/Home Décor/Home Décor Accents    Missing  35.00   \n",
       "4                            Women/Jewelry/Necklaces    Missing  44.00   \n",
       "\n",
       "   shipping                                   item_description  brand_name_i  \\\n",
       "0         1                                 No description yet          2876   \n",
       "1         0  This keyboard is in great condition and works ...          3545   \n",
       "2         1  Adorable top with a hint of lace and a key hol...          4166   \n",
       "3         1  New with tags. Leather horses. Retail for [rm]...          2876   \n",
       "4         0          Complete with certificate of authenticity          2876   \n",
       "\n",
       "   category_name_i  name_i  \n",
       "0              808  637962  \n",
       "1               86  900109  \n",
       "2             1254   91126  \n",
       "3              485  558553  \n",
       "4             1181   45278  "
      ]
     },
     "execution_count": 12,
     "metadata": {},
     "output_type": "execute_result"
    }
   ],
   "source": [
    "df.head(5)"
   ]
  },
  {
   "cell_type": "markdown",
   "metadata": {},
   "source": [
    "### 2. Маштабируем и логарифмируем цену"
   ]
  },
  {
   "cell_type": "code",
   "execution_count": 13,
   "metadata": {},
   "outputs": [
    {
     "data": {
      "text/plain": [
       "array([[<matplotlib.axes._subplots.AxesSubplot object at 0x0000000009D06BE0>]],\n",
       "      dtype=object)"
      ]
     },
     "execution_count": 13,
     "metadata": {},
     "output_type": "execute_result"
    },
    {
     "data": {
      "image/png": "[encoded data removed]",
      "text/plain": [
       "<Figure size 432x288 with 1 Axes>"
      ]
     },
     "metadata": {},
     "output_type": "display_data"
    }
   ],
   "source": [
    "# Логарифмируем и маштабируем цену\n",
    "df[\"price_l\"] = np.log(df.price+1)\n",
    "target_scaler = MinMaxScaler(copy=True,feature_range=(0, 1))\n",
    "df[\"price_l\"] = target_scaler.fit_transform(df[['price_l']])\n",
    "pd.DataFrame(df.price_l).hist()"
   ]
  },
  {
   "cell_type": "code",
   "execution_count": 14,
   "metadata": {},
   "outputs": [
    {
     "ename": "SyntaxError",
     "evalue": "invalid syntax (<ipython-input-14-ed1831d453a7>, line 3)",
     "output_type": "error",
     "traceback": [
      "\u001b[1;36m  File \u001b[1;32m\"<ipython-input-14-ed1831d453a7>\"\u001b[1;36m, line \u001b[1;32m3\u001b[0m\n\u001b[1;33m    *средняя(цена, категории*/)\u001b[0m\n\u001b[1;37m                             ^\u001b[0m\n\u001b[1;31mSyntaxError\u001b[0m\u001b[1;31m:\u001b[0m invalid syntax\n"
     ]
    }
   ],
   "source": [
    "df['item_condition_id'].astype('object')\n",
    "t = df[df['subcat_2'] =='T-shirts'].groupby('brand_name')['price'].mean().to_frame().sort_values(['brand_name'], ascending = True)\n",
    "/*средняя цена категории*/\n",
    "pr = df[df['subcat_2'] =='T-shirts']['price']"
   ]
  },
  {
   "cell_type": "markdown",
   "metadata": {},
   "source": [
    "### 3. Удалим выбросы из выборки \n",
    "    Воспользуемся z-оценкой"
   ]
  },
  {
   "cell_type": "code",
   "execution_count": 15,
   "metadata": {},
   "outputs": [],
   "source": [
    "df_mean = df.groupby(['category_name_i'])['price'].mean().to_frame()\n",
    "df_mean = df_mean.rename(index=str, columns={\"price\": \"mean\"})\n",
    "df_std = df.groupby(['category_name_i'])['price'].std().to_frame()\n",
    "df_std = df_std.rename(index=str, columns={\"price\": \"std\"})\n",
    "df_st = df_mean.join(df_std)"
   ]
  },
  {
   "cell_type": "code",
   "execution_count": 16,
   "metadata": {},
   "outputs": [
    {
     "data": {
      "text/plain": [
       "(18.35249536669314, 16.307762207703092)"
      ]
     },
     "execution_count": 16,
     "metadata": {},
     "output_type": "execute_result"
    }
   ],
   "source": [
    "pr = df[df['category_name'] =='Men/Tops/T-shirts']['price']\n",
    "pr.mean(), pr.std()"
   ]
  },
  {
   "cell_type": "code",
   "execution_count": 17,
   "metadata": {},
   "outputs": [
    {
     "name": "stderr",
     "output_type": "stream",
     "text": [
      "C:\\ProgramData\\Anaconda3\\lib\\site-packages\\IPython\\core\\interactiveshell.py:2963: FutureWarning: 'category_name_i' is both an index level and a column label.\n",
      "Defaulting to column, but this will raise an ambiguity error in a future version\n",
      "  exec(code_obj, self.user_global_ns, self.user_ns)\n"
     ]
    }
   ],
   "source": [
    "df_st['category_name_i'] = df_st.index\n",
    "df_st['category_name_i'] = df_st['category_name_i'].astype(int)\n",
    "df = pd.merge(df,df_st, how = 'inner',left_on=\"category_name_i\" , right_on=\"category_name_i\" )"
   ]
  },
  {
   "cell_type": "code",
   "execution_count": 18,
   "metadata": {},
   "outputs": [
    {
     "data": {
      "text/plain": [
       "(1287,)"
      ]
     },
     "execution_count": 18,
     "metadata": {},
     "output_type": "execute_result"
    }
   ],
   "source": [
    "df['category_name_i'].nunique(),"
   ]
  },
  {
   "cell_type": "code",
   "execution_count": 19,
   "metadata": {},
   "outputs": [],
   "source": [
    "#удаляем категории, в которых всего один объект\n",
    "df_st = df_st[df_st['std'].notnull()]"
   ]
  },
  {
   "cell_type": "code",
   "execution_count": 20,
   "metadata": {},
   "outputs": [],
   "source": [
    "df['z_score'] = ((df['price'] - df['mean'])/df['std']).abs()"
   ]
  },
  {
   "cell_type": "code",
   "execution_count": 21,
   "metadata": {},
   "outputs": [],
   "source": [
    "df =  df[df['z_score'] <= 2]"
   ]
  },
  {
   "cell_type": "code",
   "execution_count": 22,
   "metadata": {},
   "outputs": [
    {
     "name": "stdout",
     "output_type": "stream",
     "text": [
      "<class 'pandas.core.frame.DataFrame'>\n",
      "Int64Index: 1425587 entries, 0 to 1476204\n",
      "Data columns (total 15 columns):\n",
      "train_id             1425587 non-null int64\n",
      "name                 1425587 non-null object\n",
      "item_condition_id    1425587 non-null int64\n",
      "category_name        1425587 non-null object\n",
      "brand_name           1425587 non-null object\n",
      "price                1425587 non-null float64\n",
      "shipping             1425587 non-null int64\n",
      "item_description     1425583 non-null object\n",
      "brand_name_i         1425587 non-null int64\n",
      "category_name_i      1425587 non-null int64\n",
      "name_i               1425587 non-null int64\n",
      "price_l              1425587 non-null float64\n",
      "mean                 1425587 non-null float64\n",
      "std                  1425587 non-null float64\n",
      "z_score              1425587 non-null float64\n",
      "dtypes: float64(5), int64(6), object(4)\n",
      "memory usage: 174.0+ MB\n"
     ]
    }
   ],
   "source": [
    "df.info()"
   ]
  },
  {
   "cell_type": "markdown",
   "metadata": {},
   "source": [
    "###  Обработка категориальных переменных"
   ]
  },
  {
   "cell_type": "markdown",
   "metadata": {},
   "source": [
    "OneHotEncoder не стработал,  не хватило места. Поизучала работу с категориальными переменными и решила, сделать замену категории на среднюю цену категории, тогда остается только одна фича cat_code и значение отражающее физику явления(на мой взгляд)"
   ]
  },
  {
   "cell_type": "code",
   "execution_count": 114,
   "metadata": {},
   "outputs": [],
   "source": [
    "def code_mean(data, cat_feature, target):\n",
    "    return (data[cat_feature].map(data.groupby(cat_feature)[target].mean()))\n",
    "    "
   ]
  },
  {
   "cell_type": "code",
   "execution_count": 115,
   "metadata": {},
   "outputs": [],
   "source": [
    "df['cat_code'] = code_mean(df, 'category_name', 'price_l')"
   ]
  },
  {
   "cell_type": "code",
   "execution_count": 136,
   "metadata": {},
   "outputs": [],
   "source": [
    "df['brand_code'] = code_mean(df, 'brand_name', 'price_l')"
   ]
  },
  {
   "cell_type": "code",
   "execution_count": 127,
   "metadata": {},
   "outputs": [
    {
     "name": "stdout",
     "output_type": "stream",
     "text": [
      "<class 'pandas.core.frame.DataFrame'>\n",
      "MultiIndex: 40979 entries, (Beauty/Bath & Body/Bath, % Pure) to (Women/Women's Handbags/Totes & Shoppers, vineyard vines)\n",
      "Data columns (total 1 columns):\n",
      "price_l    40979 non-null float64\n",
      "dtypes: float64(1)\n",
      "memory usage: 526.8+ KB\n"
     ]
    }
   ],
   "source": [
    "brand.info()"
   ]
  },
  {
   "cell_type": "code",
   "execution_count": 253,
   "metadata": {},
   "outputs": [
    {
     "data": {
      "text/html": [
       "<div>\n",
       "<style scoped>\n",
       "    .dataframe tbody tr th:only-of-type {\n",
       "        vertical-align: middle;\n",
       "    }\n",
       "\n",
       "    .dataframe tbody tr th {\n",
       "        vertical-align: top;\n",
       "    }\n",
       "\n",
       "    .dataframe thead th {\n",
       "        text-align: right;\n",
       "    }\n",
       "</style>\n",
       "<table border=\"1\" class=\"dataframe\">\n",
       "  <thead>\n",
       "    <tr style=\"text-align: right;\">\n",
       "      <th></th>\n",
       "      <th>train_id</th>\n",
       "      <th>name</th>\n",
       "      <th>item_condition_id</th>\n",
       "      <th>category_name</th>\n",
       "      <th>brand_name</th>\n",
       "      <th>price</th>\n",
       "      <th>shipping</th>\n",
       "      <th>item_description</th>\n",
       "      <th>brand_name_i</th>\n",
       "      <th>category_name_i</th>\n",
       "      <th>name_i</th>\n",
       "      <th>price_l</th>\n",
       "      <th>mean</th>\n",
       "      <th>std</th>\n",
       "      <th>z_score</th>\n",
       "      <th>cat_code</th>\n",
       "      <th>brand_code</th>\n",
       "    </tr>\n",
       "  </thead>\n",
       "  <tbody>\n",
       "    <tr>\n",
       "      <th>0</th>\n",
       "      <td>0</td>\n",
       "      <td>MLB Cincinnati Reds T Shirt Size XL</td>\n",
       "      <td>3</td>\n",
       "      <td>Men/Tops/T-shirts</td>\n",
       "      <td>Missing</td>\n",
       "      <td>10.00</td>\n",
       "      <td>1</td>\n",
       "      <td>No description yet</td>\n",
       "      <td>2876</td>\n",
       "      <td>808</td>\n",
       "      <td>637962</td>\n",
       "      <td>0.32</td>\n",
       "      <td>18.35</td>\n",
       "      <td>16.31</td>\n",
       "      <td>0.51</td>\n",
       "      <td>0.36</td>\n",
       "      <td>0.36</td>\n",
       "    </tr>\n",
       "    <tr>\n",
       "      <th>1</th>\n",
       "      <td>78</td>\n",
       "      <td>Trump Shirt</td>\n",
       "      <td>3</td>\n",
       "      <td>Men/Tops/T-shirts</td>\n",
       "      <td>Missing</td>\n",
       "      <td>9.00</td>\n",
       "      <td>0</td>\n",
       "      <td>Worn once; will be washed before sent</td>\n",
       "      <td>2876</td>\n",
       "      <td>808</td>\n",
       "      <td>1045704</td>\n",
       "      <td>0.30</td>\n",
       "      <td>18.35</td>\n",
       "      <td>16.31</td>\n",
       "      <td>0.57</td>\n",
       "      <td>0.36</td>\n",
       "      <td>0.36</td>\n",
       "    </tr>\n",
       "    <tr>\n",
       "      <th>2</th>\n",
       "      <td>151</td>\n",
       "      <td>Nike men's dri-fit sleeveless shirt tee</td>\n",
       "      <td>3</td>\n",
       "      <td>Men/Tops/T-shirts</td>\n",
       "      <td>Nike</td>\n",
       "      <td>14.00</td>\n",
       "      <td>0</td>\n",
       "      <td>This is a men's Nike dri-fit shirt which is bl...</td>\n",
       "      <td>3047</td>\n",
       "      <td>808</td>\n",
       "      <td>787799</td>\n",
       "      <td>0.36</td>\n",
       "      <td>18.35</td>\n",
       "      <td>16.31</td>\n",
       "      <td>0.27</td>\n",
       "      <td>0.36</td>\n",
       "      <td>0.42</td>\n",
       "    </tr>\n",
       "    <tr>\n",
       "      <th>3</th>\n",
       "      <td>350</td>\n",
       "      <td>Stussy vintage dot Ragland LARGE</td>\n",
       "      <td>1</td>\n",
       "      <td>Men/Tops/T-shirts</td>\n",
       "      <td>Missing</td>\n",
       "      <td>33.00</td>\n",
       "      <td>0</td>\n",
       "      <td>Brand new with tags white/burgundy</td>\n",
       "      <td>2876</td>\n",
       "      <td>808</td>\n",
       "      <td>991169</td>\n",
       "      <td>0.46</td>\n",
       "      <td>18.35</td>\n",
       "      <td>16.31</td>\n",
       "      <td>0.90</td>\n",
       "      <td>0.36</td>\n",
       "      <td>0.36</td>\n",
       "    </tr>\n",
       "    <tr>\n",
       "      <th>4</th>\n",
       "      <td>352</td>\n",
       "      <td>2-Mens XXL Cruise Ship T-Shirts NWOT</td>\n",
       "      <td>2</td>\n",
       "      <td>Men/Tops/T-shirts</td>\n",
       "      <td>Missing</td>\n",
       "      <td>9.00</td>\n",
       "      <td>0</td>\n",
       "      <td>2-Mens XXL Cruise Ship T-Shirts. Grey-Royal Ca...</td>\n",
       "      <td>2876</td>\n",
       "      <td>808</td>\n",
       "      <td>41374</td>\n",
       "      <td>0.30</td>\n",
       "      <td>18.35</td>\n",
       "      <td>16.31</td>\n",
       "      <td>0.57</td>\n",
       "      <td>0.36</td>\n",
       "      <td>0.36</td>\n",
       "    </tr>\n",
       "  </tbody>\n",
       "</table>\n",
       "</div>"
      ],
      "text/plain": [
       "   train_id                                     name  item_condition_id  \\\n",
       "0         0      MLB Cincinnati Reds T Shirt Size XL                  3   \n",
       "1        78                              Trump Shirt                  3   \n",
       "2       151  Nike men's dri-fit sleeveless shirt tee                  3   \n",
       "3       350         Stussy vintage dot Ragland LARGE                  1   \n",
       "4       352     2-Mens XXL Cruise Ship T-Shirts NWOT                  2   \n",
       "\n",
       "       category_name brand_name  price  shipping  \\\n",
       "0  Men/Tops/T-shirts    Missing  10.00         1   \n",
       "1  Men/Tops/T-shirts    Missing   9.00         0   \n",
       "2  Men/Tops/T-shirts       Nike  14.00         0   \n",
       "3  Men/Tops/T-shirts    Missing  33.00         0   \n",
       "4  Men/Tops/T-shirts    Missing   9.00         0   \n",
       "\n",
       "                                    item_description  brand_name_i  \\\n",
       "0                                 No description yet          2876   \n",
       "1              Worn once; will be washed before sent          2876   \n",
       "2  This is a men's Nike dri-fit shirt which is bl...          3047   \n",
       "3                 Brand new with tags white/burgundy          2876   \n",
       "4  2-Mens XXL Cruise Ship T-Shirts. Grey-Royal Ca...          2876   \n",
       "\n",
       "   category_name_i   name_i  price_l  mean   std  z_score  cat_code  \\\n",
       "0              808   637962     0.32 18.35 16.31     0.51      0.36   \n",
       "1              808  1045704     0.30 18.35 16.31     0.57      0.36   \n",
       "2              808   787799     0.36 18.35 16.31     0.27      0.36   \n",
       "3              808   991169     0.46 18.35 16.31     0.90      0.36   \n",
       "4              808    41374     0.30 18.35 16.31     0.57      0.36   \n",
       "\n",
       "   brand_code  \n",
       "0        0.36  \n",
       "1        0.36  \n",
       "2        0.42  \n",
       "3        0.36  \n",
       "4        0.36  "
      ]
     },
     "execution_count": 253,
     "metadata": {},
     "output_type": "execute_result"
    }
   ],
   "source": [
    "df.head()"
   ]
  },
  {
   "cell_type": "code",
   "execution_count": 116,
   "metadata": {},
   "outputs": [],
   "source": [
    "def code_brand(data, target):\n",
    "    return (data['category_name', 'brand_name'].map(data.groupby(['category_name', 'brand_name'])[target].mean()))"
   ]
  },
  {
   "cell_type": "code",
   "execution_count": 107,
   "metadata": {},
   "outputs": [
    {
     "data": {
      "text/html": [
       "<div>\n",
       "<style scoped>\n",
       "    .dataframe tbody tr th:only-of-type {\n",
       "        vertical-align: middle;\n",
       "    }\n",
       "\n",
       "    .dataframe tbody tr th {\n",
       "        vertical-align: top;\n",
       "    }\n",
       "\n",
       "    .dataframe thead th {\n",
       "        text-align: right;\n",
       "    }\n",
       "</style>\n",
       "<table border=\"1\" class=\"dataframe\">\n",
       "  <thead>\n",
       "    <tr style=\"text-align: right;\">\n",
       "      <th></th>\n",
       "      <th>train_id</th>\n",
       "      <th>name</th>\n",
       "      <th>item_condition_id</th>\n",
       "      <th>category_name</th>\n",
       "      <th>brand_name</th>\n",
       "      <th>price</th>\n",
       "      <th>shipping</th>\n",
       "      <th>item_description</th>\n",
       "      <th>brand_name_i</th>\n",
       "      <th>category_name_i</th>\n",
       "      <th>name_i</th>\n",
       "      <th>price_l</th>\n",
       "      <th>mean</th>\n",
       "      <th>std</th>\n",
       "      <th>z_score</th>\n",
       "      <th>cat_code</th>\n",
       "    </tr>\n",
       "  </thead>\n",
       "  <tbody>\n",
       "    <tr>\n",
       "      <th>0</th>\n",
       "      <td>0</td>\n",
       "      <td>MLB Cincinnati Reds T Shirt Size XL</td>\n",
       "      <td>3</td>\n",
       "      <td>Men/Tops/T-shirts</td>\n",
       "      <td>Missing</td>\n",
       "      <td>10.00</td>\n",
       "      <td>1</td>\n",
       "      <td>No description yet</td>\n",
       "      <td>2876</td>\n",
       "      <td>808</td>\n",
       "      <td>637962</td>\n",
       "      <td>0.32</td>\n",
       "      <td>18.35</td>\n",
       "      <td>16.31</td>\n",
       "      <td>0.51</td>\n",
       "      <td>0.36</td>\n",
       "    </tr>\n",
       "    <tr>\n",
       "      <th>1</th>\n",
       "      <td>78</td>\n",
       "      <td>Trump Shirt</td>\n",
       "      <td>3</td>\n",
       "      <td>Men/Tops/T-shirts</td>\n",
       "      <td>Missing</td>\n",
       "      <td>9.00</td>\n",
       "      <td>0</td>\n",
       "      <td>Worn once; will be washed before sent</td>\n",
       "      <td>2876</td>\n",
       "      <td>808</td>\n",
       "      <td>1045704</td>\n",
       "      <td>0.30</td>\n",
       "      <td>18.35</td>\n",
       "      <td>16.31</td>\n",
       "      <td>0.57</td>\n",
       "      <td>0.36</td>\n",
       "    </tr>\n",
       "    <tr>\n",
       "      <th>2</th>\n",
       "      <td>151</td>\n",
       "      <td>Nike men's dri-fit sleeveless shirt tee</td>\n",
       "      <td>3</td>\n",
       "      <td>Men/Tops/T-shirts</td>\n",
       "      <td>Nike</td>\n",
       "      <td>14.00</td>\n",
       "      <td>0</td>\n",
       "      <td>This is a men's Nike dri-fit shirt which is bl...</td>\n",
       "      <td>3047</td>\n",
       "      <td>808</td>\n",
       "      <td>787799</td>\n",
       "      <td>0.36</td>\n",
       "      <td>18.35</td>\n",
       "      <td>16.31</td>\n",
       "      <td>0.27</td>\n",
       "      <td>0.36</td>\n",
       "    </tr>\n",
       "    <tr>\n",
       "      <th>3</th>\n",
       "      <td>350</td>\n",
       "      <td>Stussy vintage dot Ragland LARGE</td>\n",
       "      <td>1</td>\n",
       "      <td>Men/Tops/T-shirts</td>\n",
       "      <td>Missing</td>\n",
       "      <td>33.00</td>\n",
       "      <td>0</td>\n",
       "      <td>Brand new with tags white/burgundy</td>\n",
       "      <td>2876</td>\n",
       "      <td>808</td>\n",
       "      <td>991169</td>\n",
       "      <td>0.46</td>\n",
       "      <td>18.35</td>\n",
       "      <td>16.31</td>\n",
       "      <td>0.90</td>\n",
       "      <td>0.36</td>\n",
       "    </tr>\n",
       "    <tr>\n",
       "      <th>4</th>\n",
       "      <td>352</td>\n",
       "      <td>2-Mens XXL Cruise Ship T-Shirts NWOT</td>\n",
       "      <td>2</td>\n",
       "      <td>Men/Tops/T-shirts</td>\n",
       "      <td>Missing</td>\n",
       "      <td>9.00</td>\n",
       "      <td>0</td>\n",
       "      <td>2-Mens XXL Cruise Ship T-Shirts. Grey-Royal Ca...</td>\n",
       "      <td>2876</td>\n",
       "      <td>808</td>\n",
       "      <td>41374</td>\n",
       "      <td>0.30</td>\n",
       "      <td>18.35</td>\n",
       "      <td>16.31</td>\n",
       "      <td>0.57</td>\n",
       "      <td>0.36</td>\n",
       "    </tr>\n",
       "  </tbody>\n",
       "</table>\n",
       "</div>"
      ],
      "text/plain": [
       "   train_id                                     name  item_condition_id  \\\n",
       "0         0      MLB Cincinnati Reds T Shirt Size XL                  3   \n",
       "1        78                              Trump Shirt                  3   \n",
       "2       151  Nike men's dri-fit sleeveless shirt tee                  3   \n",
       "3       350         Stussy vintage dot Ragland LARGE                  1   \n",
       "4       352     2-Mens XXL Cruise Ship T-Shirts NWOT                  2   \n",
       "\n",
       "       category_name brand_name  price  shipping  \\\n",
       "0  Men/Tops/T-shirts    Missing  10.00         1   \n",
       "1  Men/Tops/T-shirts    Missing   9.00         0   \n",
       "2  Men/Tops/T-shirts       Nike  14.00         0   \n",
       "3  Men/Tops/T-shirts    Missing  33.00         0   \n",
       "4  Men/Tops/T-shirts    Missing   9.00         0   \n",
       "\n",
       "                                    item_description  brand_name_i  \\\n",
       "0                                 No description yet          2876   \n",
       "1              Worn once; will be washed before sent          2876   \n",
       "2  This is a men's Nike dri-fit shirt which is bl...          3047   \n",
       "3                 Brand new with tags white/burgundy          2876   \n",
       "4  2-Mens XXL Cruise Ship T-Shirts. Grey-Royal Ca...          2876   \n",
       "\n",
       "   category_name_i   name_i  price_l  mean   std  z_score  cat_code  \n",
       "0              808   637962     0.32 18.35 16.31     0.51      0.36  \n",
       "1              808  1045704     0.30 18.35 16.31     0.57      0.36  \n",
       "2              808   787799     0.36 18.35 16.31     0.27      0.36  \n",
       "3              808   991169     0.46 18.35 16.31     0.90      0.36  \n",
       "4              808    41374     0.30 18.35 16.31     0.57      0.36  "
      ]
     },
     "execution_count": 107,
     "metadata": {},
     "output_type": "execute_result"
    }
   ],
   "source": [
    "df.head()"
   ]
  },
  {
   "cell_type": "code",
   "execution_count": 105,
   "metadata": {},
   "outputs": [],
   "source": [
    "onehotencoder = OneHotEncoder(categorical_features = [1])\n",
    "df2= onehotencoder.fit_transform(df2).toarray()\n"
   ]
  },
  {
   "cell_type": "markdown",
   "metadata": {},
   "source": [
    "### 4.Обучение данных"
   ]
  },
  {
   "cell_type": "code",
   "execution_count": 166,
   "metadata": {},
   "outputs": [],
   "source": [
    "cols = ['item_condition_id','cat_code','brand_code', 'shipping']\n",
    "x = df[cols]\n",
    "y = df['price_l'].tolist()\n"
   ]
  },
  {
   "cell_type": "code",
   "execution_count": 278,
   "metadata": {},
   "outputs": [],
   "source": [
    "def rmsle(y_test,y_pred) : \n",
    "    y_test = np.array(y_test)\n",
    "    assert len(y_test) == len(y_pred)\n",
    "    return np.sqrt(np.mean((np.log(1+y_pred) - np.log(1+y_test))**2))"
   ]
  },
  {
   "cell_type": "markdown",
   "metadata": {},
   "source": [
    "#### 4.1 Попробуем линейную регрессию, как baseline"
   ]
  },
  {
   "cell_type": "code",
   "execution_count": 138,
   "metadata": {},
   "outputs": [
    {
     "name": "stderr",
     "output_type": "stream",
     "text": [
      "C:\\ProgramData\\Anaconda3\\lib\\site-packages\\sklearn\\cross_validation.py:41: DeprecationWarning: This module was deprecated in version 0.18 in favor of the model_selection module into which all the refactored classes and functions are moved. Also note that the interface of the new CV iterators are different from that of this module. This module will be removed in 0.20.\n",
      "  \"This module will be removed in 0.20.\", DeprecationWarning)\n"
     ]
    }
   ],
   "source": [
    "from sklearn.model_selection import train_test_split\n",
    "from sklearn import cross_validation, tree, linear_model\n",
    "from sklearn.linear_model import LinearRegression\n",
    "from sklearn.metrics import explained_variance_score\n",
    "regr = linear_model.LinearRegression()"
   ]
  },
  {
   "cell_type": "code",
   "execution_count": 139,
   "metadata": {},
   "outputs": [],
   "source": [
    "from sklearn.metrics import explained_variance_score\n",
    "import math"
   ]
  },
  {
   "cell_type": "code",
   "execution_count": 221,
   "metadata": {},
   "outputs": [],
   "source": [
    "len(y_pred), len(y_test)\n",
    "type(y_pred),type(y_test)\n",
    "y_test = np.array(y_test)\n"
   ]
  },
  {
   "cell_type": "code",
   "execution_count": 224,
   "metadata": {},
   "outputs": [
    {
     "data": {
      "text/plain": [
       "(285118, 285118)"
      ]
     },
     "execution_count": 224,
     "metadata": {},
     "output_type": "execute_result"
    }
   ],
   "source": [
    "len(y_pred), len(y_test)"
   ]
  },
  {
   "cell_type": "code",
   "execution_count": 141,
   "metadata": {},
   "outputs": [
    {
     "data": {
      "text/plain": [
       "4"
      ]
     },
     "execution_count": 141,
     "metadata": {},
     "output_type": "execute_result"
    }
   ],
   "source": [
    "rank = np.linalg.matrix_rank(x)\n",
    "rank"
   ]
  },
  {
   "cell_type": "code",
   "execution_count": 227,
   "metadata": {},
   "outputs": [],
   "source": [
    "X_train, X_test, y_train, y_test = cross_validation.train_test_split(x, y ,test_size=0.2)"
   ]
  },
  {
   "cell_type": "code",
   "execution_count": 233,
   "metadata": {},
   "outputs": [],
   "source": [
    "regr.fit(X_train, y_train)\n",
    "y_pred = regr.predict(X_test)"
   ]
  },
  {
   "cell_type": "code",
   "execution_count": 234,
   "metadata": {},
   "outputs": [
    {
     "name": "stdout",
     "output_type": "stream",
     "text": [
      "rmsle: 0.05 \n"
     ]
    }
   ],
   "source": [
    "rmsle = rmsle(y_test, y_pred)\n",
    "print(\"rmsle: %.2f \" % rmsle)"
   ]
  },
  {
   "cell_type": "markdown",
   "metadata": {},
   "source": [
    "#### 4.2 Линейнуа регрессия, с L2 регуляризацией\n"
   ]
  },
  {
   "cell_type": "code",
   "execution_count": 254,
   "metadata": {},
   "outputs": [
    {
     "data": {
      "text/plain": [
       "Ridge(alpha=1.0, copy_X=True, fit_intercept=True, max_iter=None,\n",
       "   normalize=False, random_state=None, solver='auto', tol=0.001)"
      ]
     },
     "execution_count": 254,
     "metadata": {},
     "output_type": "execute_result"
    }
   ],
   "source": [
    "from sklearn.linear_model import Ridge\n",
    "\n",
    "clf = Ridge(alpha=1.0)\n",
    "clf.fit(X_train, y_train) "
   ]
  },
  {
   "cell_type": "code",
   "execution_count": 255,
   "metadata": {},
   "outputs": [],
   "source": [
    "y_pred = clf.predict(X_test)"
   ]
  },
  {
   "cell_type": "code",
   "execution_count": 258,
   "metadata": {},
   "outputs": [
    {
     "name": "stdout",
     "output_type": "stream",
     "text": [
      "rmsle: 0.05 \n"
     ]
    }
   ],
   "source": [
    "rmsle = rmsle(y_test, y_pred)\n",
    "print(\"rmsle: %.2f \" % rmsle)\n"
   ]
  },
  {
   "cell_type": "code",
   "execution_count": null,
   "metadata": {},
   "outputs": [],
   "source": []
  },
  {
   "cell_type": "code",
   "execution_count": 242,
   "metadata": {},
   "outputs": [],
   "source": [
    "xgb_reg = xgb.XGBRegressor(n_estimators=100, learning_rate=0.08, gamma=0, subsample=0.75,\n",
    "                           colsample_bytree=1, max_depth=7)"
   ]
  },
  {
   "cell_type": "code",
   "execution_count": 243,
   "metadata": {},
   "outputs": [
    {
     "data": {
      "text/plain": [
       "XGBRegressor(base_score=0.5, booster='gbtree', colsample_bylevel=1,\n",
       "       colsample_bytree=1, gamma=0, learning_rate=0.08, max_delta_step=0,\n",
       "       max_depth=7, min_child_weight=1, missing=None, n_estimators=100,\n",
       "       n_jobs=1, nthread=None, objective='reg:linear', random_state=0,\n",
       "       reg_alpha=0, reg_lambda=1, scale_pos_weight=1, seed=None,\n",
       "       silent=True, subsample=0.75)"
      ]
     },
     "execution_count": 243,
     "metadata": {},
     "output_type": "execute_result"
    }
   ],
   "source": [
    "traindf, testdf = train_test_split(X_train, test_size = 0.3)\n",
    "xgb_reg.fit(X_train,y_train)"
   ]
  },
  {
   "cell_type": "code",
   "execution_count": 244,
   "metadata": {},
   "outputs": [],
   "source": [
    "y_pred = xgb_reg.predict(X_test)"
   ]
  },
  {
   "cell_type": "code",
   "execution_count": 247,
   "metadata": {},
   "outputs": [
    {
     "name": "stdout",
     "output_type": "stream",
     "text": [
      "rmsle: 0.05 \n"
     ]
    }
   ],
   "source": [
    "rmsle = rmsle(y_test, y_pred)\n",
    "print(\"rmsle: %.2f \" % rmsle)"
   ]
  },
  {
   "cell_type": "markdown",
   "metadata": {},
   "source": [
    "#### 4.3 Применим XGBRegressor с подбором параметров  grid_search"
   ]
  },
  {
   "cell_type": "code",
   "execution_count": 263,
   "metadata": {},
   "outputs": [],
   "source": [
    "#Добавим метрику RMSLE\n",
    "from sklearn.metrics.scorer import make_scorer\n",
    "\n",
    "def custom_loss_rmsle(y_test, y_pred):\n",
    "    y_test = np.array(y_test)\n",
    "    assert len(y_test) == len(y_pred)\n",
    "    return np.sqrt(np.mean((np.log(1+y_pred) - np.log(1+y_test))**2))\n",
    "   \n",
    "\n",
    "\n",
    "custom_scorer = make_scorer(custom_loss_rmsle, greater_is_better=True)"
   ]
  },
  {
   "cell_type": "code",
   "execution_count": 265,
   "metadata": {},
   "outputs": [],
   "source": [
    "def randomized_cv(model, param_grid, x_train=X_train, y_train=y_train):\n",
    "    grid_search = RandomizedSearchCV(model, param_grid, cv=5, scoring=custom_scorer)\n",
    "    t_start = time.time()\n",
    "    grid_search.fit(x_train, y_train)\n",
    "    t_end = time.time()\n",
    "    print('model {} best rmsle is {}'.format(model.__class__.__name__, grid_search.best_score_))\n",
    "    print('time for training is {} seconds'.format(t_end - t_start))\n",
    "    print(grid_search.best_score_)\n",
    "    return grid_search.best_estimator_"
   ]
  },
  {
   "cell_type": "code",
   "execution_count": 266,
   "metadata": {},
   "outputs": [
    {
     "name": "stdout",
     "output_type": "stream",
     "text": [
      "model XGBRegressor best rmsle is 0.07698908388219403\n",
      "time for training is 1159.689330816269 seconds\n",
      "0.07698908388219403\n"
     ]
    }
   ],
   "source": [
    "import xgboost as xgb\n",
    "\n",
    "param_grid = {\n",
    "    'max_depth': [2, 3, 4],\n",
    "    'n_estimators': [50, 100],\n",
    "    'learning_rate': [0.01, 0.025]\n",
    "}\n",
    "xgb = randomized_cv(xgb.XGBRegressor(), param_grid)"
   ]
  },
  {
   "cell_type": "code",
   "execution_count": 268,
   "metadata": {},
   "outputs": [
    {
     "data": {
      "text/plain": [
       "XGBRegressor(base_score=0.5, booster='gbtree', colsample_bylevel=1,\n",
       "       colsample_bytree=1, gamma=0, learning_rate=0.01, max_delta_step=0,\n",
       "       max_depth=3, min_child_weight=1, missing=None, n_estimators=50,\n",
       "       n_jobs=1, nthread=None, objective='reg:linear', random_state=0,\n",
       "       reg_alpha=0, reg_lambda=1, scale_pos_weight=1, seed=None,\n",
       "       silent=True, subsample=1)"
      ]
     },
     "execution_count": 268,
     "metadata": {},
     "output_type": "execute_result"
    }
   ],
   "source": [
    "xgb"
   ]
  },
  {
   "cell_type": "code",
   "execution_count": 279,
   "metadata": {},
   "outputs": [
    {
     "name": "stdout",
     "output_type": "stream",
     "text": [
      "rmsle: 0.08 \n"
     ]
    }
   ],
   "source": [
    "rmsle = rmsle(y_test, y_pred)\n",
    "print(\"rmsle: %.2f \" % rmsle)"
   ]
  },
  {
   "cell_type": "markdown",
   "metadata": {},
   "source": [
    "# Задание\n",
    "1. Сделать baseline submission\n",
    "  * Исследовать признак price. \n",
    "  * Исследовать признак price в зависимости от brand_name или других признаков\n",
    "2. Реализовать цикл анализа\n",
    "  * признаки -> модель -> настройка параметров -> лучшая модель и ее значение метрики качества на кросс-валидации\n",
    "3. Провести простые преобразования признаков и добавление простых признаков\n",
    "  * разделить category_name на уровни\n",
    "  * посмотреть на наличие числовых значений в описании и имени\n",
    "  * ...\n",
    "4. Составить план по применению нескольких моделей на разных признаках\n",
    "  * спроектируйте эксперимент. Нужно заранее спланировать порядок перебора признаков и моделей. Потом только писать код. Обратный порядок вызывает необходимость переписывать существующий код, это трата времени\n",
    "5. Просмотреть 1-5 kernel на kaggle. (только в таком порядке. сначала работаем самостоятельно, потом смотрим идеи других. при появлении опыта можно сразу начинать с них)\n",
    "6. Скорректировать план\n",
    "  * убрать пункты, которые кажутся неудачными\n",
    "  * добавить идеи из kernel, кажущиеся удачными\n",
    "7. Построить модель, выбрать лучшую\n",
    "8. Построить ансамбль, настрить парамертры. Сравнить с другими моделями.\n",
    "9. Применить и засабмитить лучшую на cv модель\n",
    "10. Прислать блокнот и свой ник в лидерборде"
   ]
  },
  {
   "cell_type": "code",
   "execution_count": null,
   "metadata": {},
   "outputs": [],
   "source": []
  },
  {
   "cell_type": "code",
   "execution_count": null,
   "metadata": {},
   "outputs": [],
   "source": []
  }
 ],
 "metadata": {
  "kernelspec": {
   "display_name": "Python 3",
   "language": "python",
   "name": "python3"
  },
  "language_info": {
   "codemirror_mode": {
    "name": "ipython",
    "version": 3
   },
   "file_extension": ".py",
   "mimetype": "text/x-python",
   "name": "python",
   "nbconvert_exporter": "python",
   "pygments_lexer": "ipython3",
   "version": "3.6.5"
  }
 },
 "nbformat": 4,
 "nbformat_minor": 2
}

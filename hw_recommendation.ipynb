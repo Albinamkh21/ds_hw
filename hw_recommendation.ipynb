{
 "cells": [
  {
   "cell_type": "code",
   "execution_count": 232,
   "metadata": {},
   "outputs": [],
   "source": [
    "import json\n",
    "from pandas.io.json import json_normalize\n",
    "import pandas as pd\n",
    "import datetime\n",
    "\n",
    "from sklearn.model_selection import cross_val_score\n",
    "from sklearn.model_selection import train_test_split\n",
    "import time\n",
    "import warnings\n",
    "warnings.filterwarnings(\"ignore\")"
   ]
  },
  {
   "cell_type": "code",
   "execution_count": 233,
   "metadata": {},
   "outputs": [],
   "source": [
    "mv = pd.read_csv('e:/DS/data/ml/movies.csv',  sep=',')\n",
    "tags = pd.read_csv('e:/DS/data/ml/tags.csv',  sep=',')\n",
    "ln = pd.read_csv('e:/DS/data/ml/links.csv',  sep=',')\n",
    "rt = pd.read_csv('e:/DS/data/ml/ratings.csv',  sep=',')\n"
   ]
  },
  {
   "cell_type": "code",
   "execution_count": 234,
   "metadata": {},
   "outputs": [
    {
     "data": {
      "text/html": [
       "<div>\n",
       "<style scoped>\n",
       "    .dataframe tbody tr th:only-of-type {\n",
       "        vertical-align: middle;\n",
       "    }\n",
       "\n",
       "    .dataframe tbody tr th {\n",
       "        vertical-align: top;\n",
       "    }\n",
       "\n",
       "    .dataframe thead th {\n",
       "        text-align: right;\n",
       "    }\n",
       "</style>\n",
       "<table border=\"1\" class=\"dataframe\">\n",
       "  <thead>\n",
       "    <tr style=\"text-align: right;\">\n",
       "      <th></th>\n",
       "      <th>movieId</th>\n",
       "      <th>title</th>\n",
       "      <th>genres</th>\n",
       "    </tr>\n",
       "  </thead>\n",
       "  <tbody>\n",
       "    <tr>\n",
       "      <th>0</th>\n",
       "      <td>1</td>\n",
       "      <td>Toy Story (1995)</td>\n",
       "      <td>Adventure|Animation|Children|Comedy|Fantasy</td>\n",
       "    </tr>\n",
       "    <tr>\n",
       "      <th>1</th>\n",
       "      <td>2</td>\n",
       "      <td>Jumanji (1995)</td>\n",
       "      <td>Adventure|Children|Fantasy</td>\n",
       "    </tr>\n",
       "    <tr>\n",
       "      <th>2</th>\n",
       "      <td>3</td>\n",
       "      <td>Grumpier Old Men (1995)</td>\n",
       "      <td>Comedy|Romance</td>\n",
       "    </tr>\n",
       "    <tr>\n",
       "      <th>3</th>\n",
       "      <td>4</td>\n",
       "      <td>Waiting to Exhale (1995)</td>\n",
       "      <td>Comedy|Drama|Romance</td>\n",
       "    </tr>\n",
       "    <tr>\n",
       "      <th>4</th>\n",
       "      <td>5</td>\n",
       "      <td>Father of the Bride Part II (1995)</td>\n",
       "      <td>Comedy</td>\n",
       "    </tr>\n",
       "  </tbody>\n",
       "</table>\n",
       "</div>"
      ],
      "text/plain": [
       "   movieId                               title  \\\n",
       "0        1                    Toy Story (1995)   \n",
       "1        2                      Jumanji (1995)   \n",
       "2        3             Grumpier Old Men (1995)   \n",
       "3        4            Waiting to Exhale (1995)   \n",
       "4        5  Father of the Bride Part II (1995)   \n",
       "\n",
       "                                        genres  \n",
       "0  Adventure|Animation|Children|Comedy|Fantasy  \n",
       "1                   Adventure|Children|Fantasy  \n",
       "2                               Comedy|Romance  \n",
       "3                         Comedy|Drama|Romance  \n",
       "4                                       Comedy  "
      ]
     },
     "execution_count": 234,
     "metadata": {},
     "output_type": "execute_result"
    }
   ],
   "source": [
    "mv.head()"
   ]
  },
  {
   "cell_type": "code",
   "execution_count": 235,
   "metadata": {},
   "outputs": [
    {
     "data": {
      "text/html": [
       "<div>\n",
       "<style scoped>\n",
       "    .dataframe tbody tr th:only-of-type {\n",
       "        vertical-align: middle;\n",
       "    }\n",
       "\n",
       "    .dataframe tbody tr th {\n",
       "        vertical-align: top;\n",
       "    }\n",
       "\n",
       "    .dataframe thead th {\n",
       "        text-align: right;\n",
       "    }\n",
       "</style>\n",
       "<table border=\"1\" class=\"dataframe\">\n",
       "  <thead>\n",
       "    <tr style=\"text-align: right;\">\n",
       "      <th></th>\n",
       "      <th>userId</th>\n",
       "      <th>movieId</th>\n",
       "      <th>tag</th>\n",
       "      <th>timestamp</th>\n",
       "    </tr>\n",
       "  </thead>\n",
       "  <tbody>\n",
       "    <tr>\n",
       "      <th>0</th>\n",
       "      <td>2</td>\n",
       "      <td>60756</td>\n",
       "      <td>funny</td>\n",
       "      <td>1445714994</td>\n",
       "    </tr>\n",
       "    <tr>\n",
       "      <th>1</th>\n",
       "      <td>2</td>\n",
       "      <td>60756</td>\n",
       "      <td>Highly quotable</td>\n",
       "      <td>1445714996</td>\n",
       "    </tr>\n",
       "    <tr>\n",
       "      <th>2</th>\n",
       "      <td>2</td>\n",
       "      <td>60756</td>\n",
       "      <td>will ferrell</td>\n",
       "      <td>1445714992</td>\n",
       "    </tr>\n",
       "    <tr>\n",
       "      <th>3</th>\n",
       "      <td>2</td>\n",
       "      <td>89774</td>\n",
       "      <td>Boxing story</td>\n",
       "      <td>1445715207</td>\n",
       "    </tr>\n",
       "    <tr>\n",
       "      <th>4</th>\n",
       "      <td>2</td>\n",
       "      <td>89774</td>\n",
       "      <td>MMA</td>\n",
       "      <td>1445715200</td>\n",
       "    </tr>\n",
       "  </tbody>\n",
       "</table>\n",
       "</div>"
      ],
      "text/plain": [
       "   userId  movieId              tag   timestamp\n",
       "0       2    60756            funny  1445714994\n",
       "1       2    60756  Highly quotable  1445714996\n",
       "2       2    60756     will ferrell  1445714992\n",
       "3       2    89774     Boxing story  1445715207\n",
       "4       2    89774              MMA  1445715200"
      ]
     },
     "execution_count": 235,
     "metadata": {},
     "output_type": "execute_result"
    }
   ],
   "source": [
    "tags.head()"
   ]
  },
  {
   "cell_type": "code",
   "execution_count": 236,
   "metadata": {},
   "outputs": [
    {
     "data": {
      "text/html": [
       "<div>\n",
       "<style scoped>\n",
       "    .dataframe tbody tr th:only-of-type {\n",
       "        vertical-align: middle;\n",
       "    }\n",
       "\n",
       "    .dataframe tbody tr th {\n",
       "        vertical-align: top;\n",
       "    }\n",
       "\n",
       "    .dataframe thead th {\n",
       "        text-align: right;\n",
       "    }\n",
       "</style>\n",
       "<table border=\"1\" class=\"dataframe\">\n",
       "  <thead>\n",
       "    <tr style=\"text-align: right;\">\n",
       "      <th></th>\n",
       "      <th>movieId</th>\n",
       "      <th>imdbId</th>\n",
       "      <th>tmdbId</th>\n",
       "    </tr>\n",
       "  </thead>\n",
       "  <tbody>\n",
       "    <tr>\n",
       "      <th>0</th>\n",
       "      <td>1</td>\n",
       "      <td>114709</td>\n",
       "      <td>862.0</td>\n",
       "    </tr>\n",
       "    <tr>\n",
       "      <th>1</th>\n",
       "      <td>2</td>\n",
       "      <td>113497</td>\n",
       "      <td>8844.0</td>\n",
       "    </tr>\n",
       "    <tr>\n",
       "      <th>2</th>\n",
       "      <td>3</td>\n",
       "      <td>113228</td>\n",
       "      <td>15602.0</td>\n",
       "    </tr>\n",
       "    <tr>\n",
       "      <th>3</th>\n",
       "      <td>4</td>\n",
       "      <td>114885</td>\n",
       "      <td>31357.0</td>\n",
       "    </tr>\n",
       "    <tr>\n",
       "      <th>4</th>\n",
       "      <td>5</td>\n",
       "      <td>113041</td>\n",
       "      <td>11862.0</td>\n",
       "    </tr>\n",
       "  </tbody>\n",
       "</table>\n",
       "</div>"
      ],
      "text/plain": [
       "   movieId  imdbId   tmdbId\n",
       "0        1  114709    862.0\n",
       "1        2  113497   8844.0\n",
       "2        3  113228  15602.0\n",
       "3        4  114885  31357.0\n",
       "4        5  113041  11862.0"
      ]
     },
     "execution_count": 236,
     "metadata": {},
     "output_type": "execute_result"
    }
   ],
   "source": [
    "ln.head()"
   ]
  },
  {
   "cell_type": "code",
   "execution_count": 237,
   "metadata": {},
   "outputs": [
    {
     "data": {
      "text/html": [
       "<div>\n",
       "<style scoped>\n",
       "    .dataframe tbody tr th:only-of-type {\n",
       "        vertical-align: middle;\n",
       "    }\n",
       "\n",
       "    .dataframe tbody tr th {\n",
       "        vertical-align: top;\n",
       "    }\n",
       "\n",
       "    .dataframe thead th {\n",
       "        text-align: right;\n",
       "    }\n",
       "</style>\n",
       "<table border=\"1\" class=\"dataframe\">\n",
       "  <thead>\n",
       "    <tr style=\"text-align: right;\">\n",
       "      <th></th>\n",
       "      <th>userId</th>\n",
       "      <th>movieId</th>\n",
       "      <th>rating</th>\n",
       "      <th>timestamp</th>\n",
       "    </tr>\n",
       "  </thead>\n",
       "  <tbody>\n",
       "    <tr>\n",
       "      <th>0</th>\n",
       "      <td>1</td>\n",
       "      <td>1</td>\n",
       "      <td>4.0</td>\n",
       "      <td>964982703</td>\n",
       "    </tr>\n",
       "    <tr>\n",
       "      <th>1</th>\n",
       "      <td>1</td>\n",
       "      <td>3</td>\n",
       "      <td>4.0</td>\n",
       "      <td>964981247</td>\n",
       "    </tr>\n",
       "    <tr>\n",
       "      <th>2</th>\n",
       "      <td>1</td>\n",
       "      <td>6</td>\n",
       "      <td>4.0</td>\n",
       "      <td>964982224</td>\n",
       "    </tr>\n",
       "    <tr>\n",
       "      <th>3</th>\n",
       "      <td>1</td>\n",
       "      <td>47</td>\n",
       "      <td>5.0</td>\n",
       "      <td>964983815</td>\n",
       "    </tr>\n",
       "    <tr>\n",
       "      <th>4</th>\n",
       "      <td>1</td>\n",
       "      <td>50</td>\n",
       "      <td>5.0</td>\n",
       "      <td>964982931</td>\n",
       "    </tr>\n",
       "  </tbody>\n",
       "</table>\n",
       "</div>"
      ],
      "text/plain": [
       "   userId  movieId  rating  timestamp\n",
       "0       1        1     4.0  964982703\n",
       "1       1        3     4.0  964981247\n",
       "2       1        6     4.0  964982224\n",
       "3       1       47     5.0  964983815\n",
       "4       1       50     5.0  964982931"
      ]
     },
     "execution_count": 237,
     "metadata": {},
     "output_type": "execute_result"
    }
   ],
   "source": [
    "rt.head()"
   ]
  },
  {
   "cell_type": "code",
   "execution_count": 238,
   "metadata": {},
   "outputs": [
    {
     "name": "stdout",
     "output_type": "stream",
     "text": [
      "<class 'pandas.core.frame.DataFrame'>\n",
      "RangeIndex: 9742 entries, 0 to 9741\n",
      "Data columns (total 3 columns):\n",
      "movieId    9742 non-null int64\n",
      "title      9742 non-null object\n",
      "genres     9742 non-null object\n",
      "dtypes: int64(1), object(2)\n",
      "memory usage: 228.4+ KB\n",
      "<class 'pandas.core.frame.DataFrame'>\n",
      "RangeIndex: 100836 entries, 0 to 100835\n",
      "Data columns (total 4 columns):\n",
      "userId       100836 non-null int64\n",
      "movieId      100836 non-null int64\n",
      "rating       100836 non-null float64\n",
      "timestamp    100836 non-null int64\n",
      "dtypes: float64(1), int64(3)\n",
      "memory usage: 3.1 MB\n"
     ]
    },
    {
     "data": {
      "text/plain": [
       "(None, None)"
      ]
     },
     "execution_count": 238,
     "metadata": {},
     "output_type": "execute_result"
    }
   ],
   "source": [
    "mv.info(), rt.info()"
   ]
  },
  {
   "cell_type": "code",
   "execution_count": 239,
   "metadata": {},
   "outputs": [
    {
     "data": {
      "text/plain": [
       "610"
      ]
     },
     "execution_count": 239,
     "metadata": {},
     "output_type": "execute_result"
    }
   ],
   "source": [
    "#сколько всего пользователей\n",
    "rt['userId'].nunique()"
   ]
  },
  {
   "cell_type": "code",
   "execution_count": 240,
   "metadata": {},
   "outputs": [
    {
     "data": {
      "text/plain": [
       "9724"
      ]
     },
     "execution_count": 240,
     "metadata": {},
     "output_type": "execute_result"
    }
   ],
   "source": [
    "#количество фильмов\n",
    "rt['movieId'].nunique()"
   ]
  },
  {
   "cell_type": "code",
   "execution_count": 241,
   "metadata": {},
   "outputs": [
    {
     "data": {
      "text/plain": [
       "(0.5, 5.0)"
      ]
     },
     "execution_count": 241,
     "metadata": {},
     "output_type": "execute_result"
    }
   ],
   "source": [
    "rt['rating'].min(),rt['rating'].max()"
   ]
  },
  {
   "cell_type": "markdown",
   "metadata": {},
   "source": [
    "### 2.Распределения количества оценок по фильмам и по пользователям"
   ]
  },
  {
   "cell_type": "markdown",
   "metadata": {},
   "source": [
    "Распределение пользователей(посчитаем сколько отзывов оставил каждый пользователь, сгруппируем и посмотрим распределение)"
   ]
  },
  {
   "cell_type": "code",
   "execution_count": 434,
   "metadata": {},
   "outputs": [],
   "source": [
    "#сколько отзывов оставил каждый пользоватлей\n",
    "users_count = rt.groupby(['userId'], as_index=False)['rating'].count().add_prefix('cnt_').sort_values('cnt_rating')\n",
    "\n",
    "                                     "
   ]
  },
  {
   "cell_type": "code",
   "execution_count": 435,
   "metadata": {},
   "outputs": [
    {
     "data": {
      "text/plain": [
       "(20, 2698)"
      ]
     },
     "execution_count": 435,
     "metadata": {},
     "output_type": "execute_result"
    }
   ],
   "source": [
    "users_count.reset_index()\n",
    "users_count.head(), users_count.tail() \n",
    "users_count['cnt_rating'].min(), users_count['cnt_rating'].max()\n"
   ]
  },
  {
   "cell_type": "code",
   "execution_count": 436,
   "metadata": {},
   "outputs": [],
   "source": [
    "users_count2 = users_count.groupby(['cnt_rating'], as_index=False).count().sort_values('cnt_userId')\n",
    "users_count2= users_count2.rename(index=str, columns={\"cnt_rating\": \"cnt_by_user\", \"cnt_userId\": \"cnt_users\"})"
   ]
  },
  {
   "cell_type": "code",
   "execution_count": 447,
   "metadata": {},
   "outputs": [],
   "source": [
    "def devide_group(x):\n",
    "    if x>0 and x<=20:\n",
    "        y=20\n",
    "    elif x>20 and x<=30:\n",
    "        y=30\n",
    "    elif  x>30 and x<=50:\n",
    "        y=50\n",
    "    elif  x>50 and x<=100:\n",
    "        y=100  \n",
    "    elif  x>100 and x<=200:\n",
    "        y=200\n",
    "    elif  x>200 and x<=300:\n",
    "        y=300    \n",
    "    elif  x>300 and x<=500:\n",
    "        y=500    \n",
    "    elif x >500:\n",
    "        y=600       \n",
    "    return y"
   ]
  },
  {
   "cell_type": "code",
   "execution_count": 448,
   "metadata": {},
   "outputs": [],
   "source": [
    "users_count2['group'] = users_count2['cnt_by_user'].apply(lambda x:devide_group(x) )"
   ]
  },
  {
   "cell_type": "code",
   "execution_count": 449,
   "metadata": {},
   "outputs": [],
   "source": [
    "users_count3 = users_count2.groupby(['group'], as_index=False)['cnt_users'].sum().sort_values('group')"
   ]
  },
  {
   "cell_type": "code",
   "execution_count": 450,
   "metadata": {},
   "outputs": [
    {
     "data": {
      "text/html": [
       "<div>\n",
       "<style scoped>\n",
       "    .dataframe tbody tr th:only-of-type {\n",
       "        vertical-align: middle;\n",
       "    }\n",
       "\n",
       "    .dataframe tbody tr th {\n",
       "        vertical-align: top;\n",
       "    }\n",
       "\n",
       "    .dataframe thead th {\n",
       "        text-align: right;\n",
       "    }\n",
       "</style>\n",
       "<table border=\"1\" class=\"dataframe\">\n",
       "  <thead>\n",
       "    <tr style=\"text-align: right;\">\n",
       "      <th></th>\n",
       "      <th>group</th>\n",
       "      <th>cnt_users</th>\n",
       "    </tr>\n",
       "  </thead>\n",
       "  <tbody>\n",
       "    <tr>\n",
       "      <th>0</th>\n",
       "      <td>20</td>\n",
       "      <td>14</td>\n",
       "    </tr>\n",
       "    <tr>\n",
       "      <th>1</th>\n",
       "      <td>30</td>\n",
       "      <td>98</td>\n",
       "    </tr>\n",
       "    <tr>\n",
       "      <th>2</th>\n",
       "      <td>50</td>\n",
       "      <td>120</td>\n",
       "    </tr>\n",
       "    <tr>\n",
       "      <th>3</th>\n",
       "      <td>100</td>\n",
       "      <td>133</td>\n",
       "    </tr>\n",
       "    <tr>\n",
       "      <th>4</th>\n",
       "      <td>200</td>\n",
       "      <td>112</td>\n",
       "    </tr>\n",
       "    <tr>\n",
       "      <th>5</th>\n",
       "      <td>300</td>\n",
       "      <td>50</td>\n",
       "    </tr>\n",
       "    <tr>\n",
       "      <th>6</th>\n",
       "      <td>500</td>\n",
       "      <td>40</td>\n",
       "    </tr>\n",
       "    <tr>\n",
       "      <th>7</th>\n",
       "      <td>600</td>\n",
       "      <td>43</td>\n",
       "    </tr>\n",
       "  </tbody>\n",
       "</table>\n",
       "</div>"
      ],
      "text/plain": [
       "   group  cnt_users\n",
       "0     20         14\n",
       "1     30         98\n",
       "2     50        120\n",
       "3    100        133\n",
       "4    200        112\n",
       "5    300         50\n",
       "6    500         40\n",
       "7    600         43"
      ]
     },
     "execution_count": 450,
     "metadata": {},
     "output_type": "execute_result"
    }
   ],
   "source": [
    "users_count3.head(15)"
   ]
  },
  {
   "cell_type": "code",
   "execution_count": 452,
   "metadata": {},
   "outputs": [
    {
     "data": {
      "image/png": "[encoded data removed]",
      "text/plain": [
       "<Figure size 432x288 with 1 Axes>"
      ]
     },
     "metadata": {},
     "output_type": "display_data"
    }
   ],
   "source": [
    "import matplotlib\n",
    "import matplotlib.pyplot as plt\n",
    "import numpy as np\n",
    "\n",
    "# Data for plotting\n",
    "x = users_count3.group\n",
    "y = users_count3.cnt_users\n",
    "\n",
    "fig, ax = plt.subplots()\n",
    "ax.plot(x, y)\n",
    "\n",
    "ax.set(xlabel='к-во рейтингов', ylabel='к-во пользователей',\n",
    "       title='Распределение рейтингов')\n",
    "ax.grid()\n",
    "\n",
    "fig.savefig(\"test.png\")\n",
    "plt.show()"
   ]
  },
  {
   "cell_type": "markdown",
   "metadata": {},
   "source": [
    "Видим, что до 20 отзывов оставили всего 14 пользователей, после 200 резкое падение"
   ]
  },
  {
   "cell_type": "markdown",
   "metadata": {},
   "source": [
    "##### Посмотрим распределение по фильмам"
   ]
  },
  {
   "cell_type": "code",
   "execution_count": 458,
   "metadata": {},
   "outputs": [
    {
     "data": {
      "text/plain": [
       "(1, 329)"
      ]
     },
     "execution_count": 458,
     "metadata": {},
     "output_type": "execute_result"
    }
   ],
   "source": [
    "#сколько отзывов оставил каждый пользоватлей\n",
    "movies_count = rt.groupby(['movieId'], as_index=False)['rating'].count().add_prefix('cnt_').sort_values('cnt_rating')\n",
    "movies_count['cnt_rating'].min(), movies_count['cnt_rating'].max()\n",
    "                                     "
   ]
  },
  {
   "cell_type": "code",
   "execution_count": 464,
   "metadata": {},
   "outputs": [],
   "source": [
    "movies_count2 = movies_count.groupby(['cnt_rating'], as_index=False).count().sort_values('cnt_movieId')\n",
    "movies_count2= movies_count2.rename(index=str, columns={\"cnt_rating\": \"cnt_rating\", \"cnt_movieId\": \"cnt_movies\"})"
   ]
  },
  {
   "cell_type": "code",
   "execution_count": 470,
   "metadata": {},
   "outputs": [],
   "source": [
    "def devide_group2(x):\n",
    "    if x>0 and x<=20:\n",
    "        y=20\n",
    "    elif x>20 and x<=30:\n",
    "        y=30\n",
    "    elif  x>30 and x<=50:\n",
    "        y=50\n",
    "    elif  x>50 and x<=100:\n",
    "        y=100  \n",
    "    elif  x>100 and x<=150:\n",
    "        y=150\n",
    "    elif  x>150 and x<=200:\n",
    "        y=200    \n",
    "    elif  x>200 and x<=300:\n",
    "        y=300    \n",
    "    elif x >300:\n",
    "        y=350       \n",
    "    return y"
   ]
  },
  {
   "cell_type": "code",
   "execution_count": 471,
   "metadata": {},
   "outputs": [],
   "source": [
    "movies_count2['group'] = movies_count2['cnt_rating'].apply(lambda x:devide_group2(x) )\n",
    "movies_count3 = movies_count2.groupby(['group'], as_index=False)['cnt_movies'].sum().sort_values('group')"
   ]
  },
  {
   "cell_type": "code",
   "execution_count": 472,
   "metadata": {},
   "outputs": [
    {
     "data": {
      "text/html": [
       "<div>\n",
       "<style scoped>\n",
       "    .dataframe tbody tr th:only-of-type {\n",
       "        vertical-align: middle;\n",
       "    }\n",
       "\n",
       "    .dataframe tbody tr th {\n",
       "        vertical-align: top;\n",
       "    }\n",
       "\n",
       "    .dataframe thead th {\n",
       "        text-align: right;\n",
       "    }\n",
       "</style>\n",
       "<table border=\"1\" class=\"dataframe\">\n",
       "  <thead>\n",
       "    <tr style=\"text-align: right;\">\n",
       "      <th></th>\n",
       "      <th>group</th>\n",
       "      <th>cnt_movies</th>\n",
       "    </tr>\n",
       "  </thead>\n",
       "  <tbody>\n",
       "    <tr>\n",
       "      <th>0</th>\n",
       "      <td>20</td>\n",
       "      <td>8489</td>\n",
       "    </tr>\n",
       "    <tr>\n",
       "      <th>1</th>\n",
       "      <td>30</td>\n",
       "      <td>375</td>\n",
       "    </tr>\n",
       "    <tr>\n",
       "      <th>2</th>\n",
       "      <td>50</td>\n",
       "      <td>424</td>\n",
       "    </tr>\n",
       "    <tr>\n",
       "      <th>3</th>\n",
       "      <td>100</td>\n",
       "      <td>302</td>\n",
       "    </tr>\n",
       "    <tr>\n",
       "      <th>4</th>\n",
       "      <td>150</td>\n",
       "      <td>91</td>\n",
       "    </tr>\n",
       "    <tr>\n",
       "      <th>5</th>\n",
       "      <td>200</td>\n",
       "      <td>25</td>\n",
       "    </tr>\n",
       "    <tr>\n",
       "      <th>6</th>\n",
       "      <td>300</td>\n",
       "      <td>15</td>\n",
       "    </tr>\n",
       "    <tr>\n",
       "      <th>7</th>\n",
       "      <td>350</td>\n",
       "      <td>3</td>\n",
       "    </tr>\n",
       "  </tbody>\n",
       "</table>\n",
       "</div>"
      ],
      "text/plain": [
       "   group  cnt_movies\n",
       "0     20        8489\n",
       "1     30         375\n",
       "2     50         424\n",
       "3    100         302\n",
       "4    150          91\n",
       "5    200          25\n",
       "6    300          15\n",
       "7    350           3"
      ]
     },
     "execution_count": 472,
     "metadata": {},
     "output_type": "execute_result"
    }
   ],
   "source": [
    "movies_count3"
   ]
  },
  {
   "cell_type": "code",
   "execution_count": 473,
   "metadata": {},
   "outputs": [
    {
     "data": {
      "image/png": "[encoded data removed]",
      "text/plain": [
       "<Figure size 432x288 with 1 Axes>"
      ]
     },
     "metadata": {},
     "output_type": "display_data"
    }
   ],
   "source": [
    "import matplotlib\n",
    "import matplotlib.pyplot as plt\n",
    "import numpy as np\n",
    "\n",
    "# Data for plotting\n",
    "x = movies_count3.group\n",
    "y = movies_count3.cnt_movies\n",
    "\n",
    "fig, ax = plt.subplots()\n",
    "ax.plot(x, y)\n",
    "\n",
    "ax.set(xlabel='к-во рейтингов', ylabel='к-во фильмов',\n",
    "       title='Распределение рейтингов')\n",
    "ax.grid()\n",
    "\n",
    "fig.savefig(\"test.png\")\n",
    "plt.show()"
   ]
  },
  {
   "cell_type": "markdown",
   "metadata": {},
   "source": [
    "Видим, что большее количество фильмов имеет меньше 20 отзывов, а больше 150 всего 43 фильма"
   ]
  },
  {
   "cell_type": "markdown",
   "metadata": {},
   "source": [
    "### 3.Оценить средние оценки по фильмам и рейтингам"
   ]
  },
  {
   "cell_type": "code",
   "execution_count": 456,
   "metadata": {
    "scrolled": true
   },
   "outputs": [
    {
     "data": {
      "text/plain": [
       "mean     2.357143\n",
       "count    7.000000\n",
       "Name: 4, dtype: float64"
      ]
     },
     "execution_count": 456,
     "metadata": {},
     "output_type": "execute_result"
    }
   ],
   "source": [
    "agg = {\n",
    "    'rating':{\n",
    "        'mean',\n",
    "        ''\n",
    "    }\n",
    "}\n",
    "avr = rt.groupby(['movieId'], as_index=False)['rating'].agg(['mean', 'count'])\n",
    "\n",
    "avr.iloc[3]"
   ]
  },
  {
   "cell_type": "code",
   "execution_count": 454,
   "metadata": {},
   "outputs": [
    {
     "data": {
      "text/html": [
       "<div>\n",
       "<style scoped>\n",
       "    .dataframe tbody tr th:only-of-type {\n",
       "        vertical-align: middle;\n",
       "    }\n",
       "\n",
       "    .dataframe tbody tr th {\n",
       "        vertical-align: top;\n",
       "    }\n",
       "\n",
       "    .dataframe thead th {\n",
       "        text-align: right;\n",
       "    }\n",
       "</style>\n",
       "<table border=\"1\" class=\"dataframe\">\n",
       "  <thead>\n",
       "    <tr style=\"text-align: right;\">\n",
       "      <th></th>\n",
       "      <th>userId</th>\n",
       "      <th>movieId</th>\n",
       "      <th>rating</th>\n",
       "      <th>timestamp</th>\n",
       "    </tr>\n",
       "  </thead>\n",
       "  <tbody>\n",
       "    <tr>\n",
       "      <th>562</th>\n",
       "      <td>6</td>\n",
       "      <td>4</td>\n",
       "      <td>3.0</td>\n",
       "      <td>845554349</td>\n",
       "    </tr>\n",
       "    <tr>\n",
       "      <th>1386</th>\n",
       "      <td>14</td>\n",
       "      <td>4</td>\n",
       "      <td>3.0</td>\n",
       "      <td>835441653</td>\n",
       "    </tr>\n",
       "    <tr>\n",
       "      <th>13075</th>\n",
       "      <td>84</td>\n",
       "      <td>4</td>\n",
       "      <td>3.0</td>\n",
       "      <td>858772461</td>\n",
       "    </tr>\n",
       "    <tr>\n",
       "      <th>23702</th>\n",
       "      <td>162</td>\n",
       "      <td>4</td>\n",
       "      <td>3.0</td>\n",
       "      <td>836684306</td>\n",
       "    </tr>\n",
       "    <tr>\n",
       "      <th>38179</th>\n",
       "      <td>262</td>\n",
       "      <td>4</td>\n",
       "      <td>1.0</td>\n",
       "      <td>840306203</td>\n",
       "    </tr>\n",
       "    <tr>\n",
       "      <th>62011</th>\n",
       "      <td>411</td>\n",
       "      <td>4</td>\n",
       "      <td>2.0</td>\n",
       "      <td>835533021</td>\n",
       "    </tr>\n",
       "    <tr>\n",
       "      <th>95103</th>\n",
       "      <td>600</td>\n",
       "      <td>4</td>\n",
       "      <td>1.5</td>\n",
       "      <td>1237760055</td>\n",
       "    </tr>\n",
       "  </tbody>\n",
       "</table>\n",
       "</div>"
      ],
      "text/plain": [
       "       userId  movieId  rating   timestamp\n",
       "562         6        4     3.0   845554349\n",
       "1386       14        4     3.0   835441653\n",
       "13075      84        4     3.0   858772461\n",
       "23702     162        4     3.0   836684306\n",
       "38179     262        4     1.0   840306203\n",
       "62011     411        4     2.0   835533021\n",
       "95103     600        4     1.5  1237760055"
      ]
     },
     "execution_count": 454,
     "metadata": {},
     "output_type": "execute_result"
    }
   ],
   "source": [
    "rt[rt['movieId']==4]"
   ]
  },
  {
   "cell_type": "code",
   "execution_count": 328,
   "metadata": {},
   "outputs": [],
   "source": [
    "df = pd.merge(rt,avr, how = 'inner',left_on=\"movieId\" , right_on=\"movieId\" )"
   ]
  },
  {
   "cell_type": "code",
   "execution_count": 330,
   "metadata": {},
   "outputs": [],
   "source": [
    "avr2 = rt.groupby(['userId'], as_index=False)['userId', 'rating'].agg('mean')"
   ]
  },
  {
   "cell_type": "code",
   "execution_count": 331,
   "metadata": {},
   "outputs": [],
   "source": [
    "df = pd.merge(df,avr2, how = 'inner',left_on=\"userId\" , right_on=\"userId\" )"
   ]
  },
  {
   "cell_type": "code",
   "execution_count": 333,
   "metadata": {},
   "outputs": [],
   "source": [
    "df= df.rename(index=str, columns={\"rating_x\": \"rating\", \"rating_y\": \"movie_mean\", \"rating_y\": \"user_mean\"})"
   ]
  },
  {
   "cell_type": "code",
   "execution_count": 457,
   "metadata": {},
   "outputs": [
    {
     "data": {
      "text/html": [
       "<div>\n",
       "<style scoped>\n",
       "    .dataframe tbody tr th:only-of-type {\n",
       "        vertical-align: middle;\n",
       "    }\n",
       "\n",
       "    .dataframe tbody tr th {\n",
       "        vertical-align: top;\n",
       "    }\n",
       "\n",
       "    .dataframe thead th {\n",
       "        text-align: right;\n",
       "    }\n",
       "</style>\n",
       "<table border=\"1\" class=\"dataframe\">\n",
       "  <thead>\n",
       "    <tr style=\"text-align: right;\">\n",
       "      <th></th>\n",
       "      <th>userId</th>\n",
       "      <th>movieId</th>\n",
       "      <th>rating</th>\n",
       "      <th>timestamp</th>\n",
       "      <th>mean</th>\n",
       "      <th>count</th>\n",
       "      <th>user_mean</th>\n",
       "    </tr>\n",
       "  </thead>\n",
       "  <tbody>\n",
       "    <tr>\n",
       "      <th>0</th>\n",
       "      <td>1</td>\n",
       "      <td>1</td>\n",
       "      <td>4.0</td>\n",
       "      <td>964982703</td>\n",
       "      <td>3.920930</td>\n",
       "      <td>215</td>\n",
       "      <td>4.366379</td>\n",
       "    </tr>\n",
       "    <tr>\n",
       "      <th>1</th>\n",
       "      <td>1</td>\n",
       "      <td>3</td>\n",
       "      <td>4.0</td>\n",
       "      <td>964981247</td>\n",
       "      <td>3.259615</td>\n",
       "      <td>52</td>\n",
       "      <td>4.366379</td>\n",
       "    </tr>\n",
       "    <tr>\n",
       "      <th>2</th>\n",
       "      <td>1</td>\n",
       "      <td>6</td>\n",
       "      <td>4.0</td>\n",
       "      <td>964982224</td>\n",
       "      <td>3.946078</td>\n",
       "      <td>102</td>\n",
       "      <td>4.366379</td>\n",
       "    </tr>\n",
       "    <tr>\n",
       "      <th>3</th>\n",
       "      <td>1</td>\n",
       "      <td>47</td>\n",
       "      <td>5.0</td>\n",
       "      <td>964983815</td>\n",
       "      <td>3.975369</td>\n",
       "      <td>203</td>\n",
       "      <td>4.366379</td>\n",
       "    </tr>\n",
       "    <tr>\n",
       "      <th>4</th>\n",
       "      <td>1</td>\n",
       "      <td>50</td>\n",
       "      <td>5.0</td>\n",
       "      <td>964982931</td>\n",
       "      <td>4.237745</td>\n",
       "      <td>204</td>\n",
       "      <td>4.366379</td>\n",
       "    </tr>\n",
       "  </tbody>\n",
       "</table>\n",
       "</div>"
      ],
      "text/plain": [
       "   userId  movieId  rating  timestamp      mean  count  user_mean\n",
       "0       1        1     4.0  964982703  3.920930    215   4.366379\n",
       "1       1        3     4.0  964981247  3.259615     52   4.366379\n",
       "2       1        6     4.0  964982224  3.946078    102   4.366379\n",
       "3       1       47     5.0  964983815  3.975369    203   4.366379\n",
       "4       1       50     5.0  964982931  4.237745    204   4.366379"
      ]
     },
     "execution_count": 457,
     "metadata": {},
     "output_type": "execute_result"
    }
   ],
   "source": [
    "df.head()"
   ]
  },
  {
   "cell_type": "markdown",
   "metadata": {},
   "source": [
    "### 4,5. Фильм нравится всем или никому"
   ]
  },
  {
   "cell_type": "code",
   "execution_count": 477,
   "metadata": {},
   "outputs": [
    {
     "data": {
      "text/plain": [
       "array([177593,   3451,   3201,   1041,   3152,   1178], dtype=int64)"
      ]
     },
     "execution_count": 477,
     "metadata": {},
     "output_type": "execute_result"
    }
   ],
   "source": [
    "#нравятся всем, так как большинство фильмов имеет не больше 20 рейтингов\n",
    "df[(df['mean']>=4.5)  &  (df['count']>=8)]['movieId'].unique() #sort_values('mean',ascending=False)"
   ]
  },
  {
   "cell_type": "code",
   "execution_count": 476,
   "metadata": {},
   "outputs": [
    {
     "data": {
      "text/plain": [
       "array([ 546, 1882, 1499], dtype=int64)"
      ]
     },
     "execution_count": 476,
     "metadata": {},
     "output_type": "execute_result"
    }
   ],
   "source": [
    "#не нравятся никому\n",
    "df[(df['mean']<=2.0)  &  (df['count']>=20)]['movieId'].unique() #sort_values('mean',ascending=False)"
   ]
  },
  {
   "cell_type": "markdown",
   "metadata": {},
   "source": [
    "### 6. Смещение оценок пользователей"
   ]
  },
  {
   "cell_type": "code",
   "execution_count": 488,
   "metadata": {},
   "outputs": [],
   "source": [
    "#отличение оценки пользователя от средней оценки фильма\n",
    "df['user_std'] = df['rating'] - df['mean']"
   ]
  },
  {
   "cell_type": "code",
   "execution_count": 491,
   "metadata": {},
   "outputs": [],
   "source": [
    "df2 = df.groupby(['userId'], as_index=False)['user_std'].agg(['sum', 'count', 'mean'])"
   ]
  },
  {
   "cell_type": "code",
   "execution_count": 495,
   "metadata": {},
   "outputs": [
    {
     "data": {
      "text/html": [
       "<div>\n",
       "<style scoped>\n",
       "    .dataframe tbody tr th:only-of-type {\n",
       "        vertical-align: middle;\n",
       "    }\n",
       "\n",
       "    .dataframe tbody tr th {\n",
       "        vertical-align: top;\n",
       "    }\n",
       "\n",
       "    .dataframe thead th {\n",
       "        text-align: right;\n",
       "    }\n",
       "</style>\n",
       "<table border=\"1\" class=\"dataframe\">\n",
       "  <thead>\n",
       "    <tr style=\"text-align: right;\">\n",
       "      <th></th>\n",
       "      <th>sum</th>\n",
       "      <th>count</th>\n",
       "      <th>mean</th>\n",
       "    </tr>\n",
       "    <tr>\n",
       "      <th>userId</th>\n",
       "      <th></th>\n",
       "      <th></th>\n",
       "      <th></th>\n",
       "    </tr>\n",
       "  </thead>\n",
       "  <tbody>\n",
       "    <tr>\n",
       "      <th>3</th>\n",
       "      <td>-44.816478</td>\n",
       "      <td>39</td>\n",
       "      <td>-1.149140</td>\n",
       "    </tr>\n",
       "    <tr>\n",
       "      <th>19</th>\n",
       "      <td>-366.369841</td>\n",
       "      <td>703</td>\n",
       "      <td>-0.521152</td>\n",
       "    </tr>\n",
       "    <tr>\n",
       "      <th>22</th>\n",
       "      <td>-139.244466</td>\n",
       "      <td>119</td>\n",
       "      <td>-1.170122</td>\n",
       "    </tr>\n",
       "    <tr>\n",
       "      <th>28</th>\n",
       "      <td>-317.106756</td>\n",
       "      <td>570</td>\n",
       "      <td>-0.556328</td>\n",
       "    </tr>\n",
       "    <tr>\n",
       "      <th>36</th>\n",
       "      <td>-47.525130</td>\n",
       "      <td>60</td>\n",
       "      <td>-0.792086</td>\n",
       "    </tr>\n",
       "    <tr>\n",
       "      <th>47</th>\n",
       "      <td>-74.280352</td>\n",
       "      <td>140</td>\n",
       "      <td>-0.530574</td>\n",
       "    </tr>\n",
       "    <tr>\n",
       "      <th>50</th>\n",
       "      <td>-215.355418</td>\n",
       "      <td>310</td>\n",
       "      <td>-0.694695</td>\n",
       "    </tr>\n",
       "    <tr>\n",
       "      <th>54</th>\n",
       "      <td>-20.992310</td>\n",
       "      <td>33</td>\n",
       "      <td>-0.636131</td>\n",
       "    </tr>\n",
       "    <tr>\n",
       "      <th>55</th>\n",
       "      <td>-19.403871</td>\n",
       "      <td>25</td>\n",
       "      <td>-0.776155</td>\n",
       "    </tr>\n",
       "    <tr>\n",
       "      <th>75</th>\n",
       "      <td>-35.242311</td>\n",
       "      <td>69</td>\n",
       "      <td>-0.510758</td>\n",
       "    </tr>\n",
       "    <tr>\n",
       "      <th>76</th>\n",
       "      <td>-84.978856</td>\n",
       "      <td>119</td>\n",
       "      <td>-0.714108</td>\n",
       "    </tr>\n",
       "    <tr>\n",
       "      <th>81</th>\n",
       "      <td>-22.332604</td>\n",
       "      <td>26</td>\n",
       "      <td>-0.858946</td>\n",
       "    </tr>\n",
       "    <tr>\n",
       "      <th>127</th>\n",
       "      <td>-13.322770</td>\n",
       "      <td>22</td>\n",
       "      <td>-0.605580</td>\n",
       "    </tr>\n",
       "    <tr>\n",
       "      <th>131</th>\n",
       "      <td>-34.539726</td>\n",
       "      <td>69</td>\n",
       "      <td>-0.500576</td>\n",
       "    </tr>\n",
       "    <tr>\n",
       "      <th>132</th>\n",
       "      <td>-188.986238</td>\n",
       "      <td>347</td>\n",
       "      <td>-0.544629</td>\n",
       "    </tr>\n",
       "    <tr>\n",
       "      <th>133</th>\n",
       "      <td>-25.575213</td>\n",
       "      <td>35</td>\n",
       "      <td>-0.730720</td>\n",
       "    </tr>\n",
       "    <tr>\n",
       "      <th>139</th>\n",
       "      <td>-251.681207</td>\n",
       "      <td>194</td>\n",
       "      <td>-1.297326</td>\n",
       "    </tr>\n",
       "    <tr>\n",
       "      <th>149</th>\n",
       "      <td>-36.415352</td>\n",
       "      <td>58</td>\n",
       "      <td>-0.627851</td>\n",
       "    </tr>\n",
       "    <tr>\n",
       "      <th>153</th>\n",
       "      <td>-244.265174</td>\n",
       "      <td>179</td>\n",
       "      <td>-1.364610</td>\n",
       "    </tr>\n",
       "    <tr>\n",
       "      <th>160</th>\n",
       "      <td>-241.692817</td>\n",
       "      <td>437</td>\n",
       "      <td>-0.553073</td>\n",
       "    </tr>\n",
       "    <tr>\n",
       "      <th>230</th>\n",
       "      <td>-87.957015</td>\n",
       "      <td>139</td>\n",
       "      <td>-0.632784</td>\n",
       "    </tr>\n",
       "    <tr>\n",
       "      <th>245</th>\n",
       "      <td>-20.105114</td>\n",
       "      <td>21</td>\n",
       "      <td>-0.957386</td>\n",
       "    </tr>\n",
       "    <tr>\n",
       "      <th>255</th>\n",
       "      <td>-42.327706</td>\n",
       "      <td>44</td>\n",
       "      <td>-0.961993</td>\n",
       "    </tr>\n",
       "    <tr>\n",
       "      <th>287</th>\n",
       "      <td>-134.081941</td>\n",
       "      <td>152</td>\n",
       "      <td>-0.882118</td>\n",
       "    </tr>\n",
       "    <tr>\n",
       "      <th>293</th>\n",
       "      <td>-12.451979</td>\n",
       "      <td>21</td>\n",
       "      <td>-0.592951</td>\n",
       "    </tr>\n",
       "    <tr>\n",
       "      <th>297</th>\n",
       "      <td>-55.554011</td>\n",
       "      <td>72</td>\n",
       "      <td>-0.771583</td>\n",
       "    </tr>\n",
       "    <tr>\n",
       "      <th>298</th>\n",
       "      <td>-911.991915</td>\n",
       "      <td>939</td>\n",
       "      <td>-0.971237</td>\n",
       "    </tr>\n",
       "    <tr>\n",
       "      <th>308</th>\n",
       "      <td>-157.264090</td>\n",
       "      <td>115</td>\n",
       "      <td>-1.367514</td>\n",
       "    </tr>\n",
       "    <tr>\n",
       "      <th>311</th>\n",
       "      <td>-35.603659</td>\n",
       "      <td>28</td>\n",
       "      <td>-1.271559</td>\n",
       "    </tr>\n",
       "    <tr>\n",
       "      <th>328</th>\n",
       "      <td>-142.302131</td>\n",
       "      <td>255</td>\n",
       "      <td>-0.558048</td>\n",
       "    </tr>\n",
       "    <tr>\n",
       "      <th>329</th>\n",
       "      <td>-29.314125</td>\n",
       "      <td>23</td>\n",
       "      <td>-1.274527</td>\n",
       "    </tr>\n",
       "    <tr>\n",
       "      <th>333</th>\n",
       "      <td>-14.595407</td>\n",
       "      <td>25</td>\n",
       "      <td>-0.583816</td>\n",
       "    </tr>\n",
       "    <tr>\n",
       "      <th>338</th>\n",
       "      <td>-22.710923</td>\n",
       "      <td>39</td>\n",
       "      <td>-0.582331</td>\n",
       "    </tr>\n",
       "    <tr>\n",
       "      <th>365</th>\n",
       "      <td>-193.896389</td>\n",
       "      <td>277</td>\n",
       "      <td>-0.699987</td>\n",
       "    </tr>\n",
       "    <tr>\n",
       "      <th>386</th>\n",
       "      <td>-45.668316</td>\n",
       "      <td>68</td>\n",
       "      <td>-0.671593</td>\n",
       "    </tr>\n",
       "    <tr>\n",
       "      <th>394</th>\n",
       "      <td>-13.926215</td>\n",
       "      <td>23</td>\n",
       "      <td>-0.605488</td>\n",
       "    </tr>\n",
       "    <tr>\n",
       "      <th>416</th>\n",
       "      <td>-37.776204</td>\n",
       "      <td>51</td>\n",
       "      <td>-0.740710</td>\n",
       "    </tr>\n",
       "    <tr>\n",
       "      <th>428</th>\n",
       "      <td>-211.012788</td>\n",
       "      <td>300</td>\n",
       "      <td>-0.703376</td>\n",
       "    </tr>\n",
       "    <tr>\n",
       "      <th>431</th>\n",
       "      <td>-13.416960</td>\n",
       "      <td>20</td>\n",
       "      <td>-0.670848</td>\n",
       "    </tr>\n",
       "    <tr>\n",
       "      <th>442</th>\n",
       "      <td>-42.800147</td>\n",
       "      <td>20</td>\n",
       "      <td>-2.140007</td>\n",
       "    </tr>\n",
       "    <tr>\n",
       "      <th>461</th>\n",
       "      <td>-26.047688</td>\n",
       "      <td>27</td>\n",
       "      <td>-0.964729</td>\n",
       "    </tr>\n",
       "    <tr>\n",
       "      <th>478</th>\n",
       "      <td>-13.427209</td>\n",
       "      <td>22</td>\n",
       "      <td>-0.610328</td>\n",
       "    </tr>\n",
       "    <tr>\n",
       "      <th>487</th>\n",
       "      <td>-41.753635</td>\n",
       "      <td>56</td>\n",
       "      <td>-0.745601</td>\n",
       "    </tr>\n",
       "    <tr>\n",
       "      <th>508</th>\n",
       "      <td>-34.753971</td>\n",
       "      <td>24</td>\n",
       "      <td>-1.448082</td>\n",
       "    </tr>\n",
       "    <tr>\n",
       "      <th>510</th>\n",
       "      <td>-76.684810</td>\n",
       "      <td>108</td>\n",
       "      <td>-0.710045</td>\n",
       "    </tr>\n",
       "    <tr>\n",
       "      <th>517</th>\n",
       "      <td>-417.535484</td>\n",
       "      <td>400</td>\n",
       "      <td>-1.043839</td>\n",
       "    </tr>\n",
       "    <tr>\n",
       "      <th>535</th>\n",
       "      <td>-15.269488</td>\n",
       "      <td>30</td>\n",
       "      <td>-0.508983</td>\n",
       "    </tr>\n",
       "    <tr>\n",
       "      <th>567</th>\n",
       "      <td>-374.892757</td>\n",
       "      <td>385</td>\n",
       "      <td>-0.973747</td>\n",
       "    </tr>\n",
       "    <tr>\n",
       "      <th>599</th>\n",
       "      <td>-1273.127451</td>\n",
       "      <td>2478</td>\n",
       "      <td>-0.513772</td>\n",
       "    </tr>\n",
       "  </tbody>\n",
       "</table>\n",
       "</div>"
      ],
      "text/plain": [
       "                sum  count      mean\n",
       "userId                              \n",
       "3        -44.816478     39 -1.149140\n",
       "19      -366.369841    703 -0.521152\n",
       "22      -139.244466    119 -1.170122\n",
       "28      -317.106756    570 -0.556328\n",
       "36       -47.525130     60 -0.792086\n",
       "47       -74.280352    140 -0.530574\n",
       "50      -215.355418    310 -0.694695\n",
       "54       -20.992310     33 -0.636131\n",
       "55       -19.403871     25 -0.776155\n",
       "75       -35.242311     69 -0.510758\n",
       "76       -84.978856    119 -0.714108\n",
       "81       -22.332604     26 -0.858946\n",
       "127      -13.322770     22 -0.605580\n",
       "131      -34.539726     69 -0.500576\n",
       "132     -188.986238    347 -0.544629\n",
       "133      -25.575213     35 -0.730720\n",
       "139     -251.681207    194 -1.297326\n",
       "149      -36.415352     58 -0.627851\n",
       "153     -244.265174    179 -1.364610\n",
       "160     -241.692817    437 -0.553073\n",
       "230      -87.957015    139 -0.632784\n",
       "245      -20.105114     21 -0.957386\n",
       "255      -42.327706     44 -0.961993\n",
       "287     -134.081941    152 -0.882118\n",
       "293      -12.451979     21 -0.592951\n",
       "297      -55.554011     72 -0.771583\n",
       "298     -911.991915    939 -0.971237\n",
       "308     -157.264090    115 -1.367514\n",
       "311      -35.603659     28 -1.271559\n",
       "328     -142.302131    255 -0.558048\n",
       "329      -29.314125     23 -1.274527\n",
       "333      -14.595407     25 -0.583816\n",
       "338      -22.710923     39 -0.582331\n",
       "365     -193.896389    277 -0.699987\n",
       "386      -45.668316     68 -0.671593\n",
       "394      -13.926215     23 -0.605488\n",
       "416      -37.776204     51 -0.740710\n",
       "428     -211.012788    300 -0.703376\n",
       "431      -13.416960     20 -0.670848\n",
       "442      -42.800147     20 -2.140007\n",
       "461      -26.047688     27 -0.964729\n",
       "478      -13.427209     22 -0.610328\n",
       "487      -41.753635     56 -0.745601\n",
       "508      -34.753971     24 -1.448082\n",
       "510      -76.684810    108 -0.710045\n",
       "517     -417.535484    400 -1.043839\n",
       "535      -15.269488     30 -0.508983\n",
       "567     -374.892757    385 -0.973747\n",
       "599    -1273.127451   2478 -0.513772"
      ]
     },
     "execution_count": 495,
     "metadata": {},
     "output_type": "execute_result"
    }
   ],
   "source": [
    "#кто занижает оценки\n",
    "df2[df2['mean']<-0.5]"
   ]
  },
  {
   "cell_type": "code",
   "execution_count": 496,
   "metadata": {},
   "outputs": [
    {
     "data": {
      "text/html": [
       "<div>\n",
       "<style scoped>\n",
       "    .dataframe tbody tr th:only-of-type {\n",
       "        vertical-align: middle;\n",
       "    }\n",
       "\n",
       "    .dataframe tbody tr th {\n",
       "        vertical-align: top;\n",
       "    }\n",
       "\n",
       "    .dataframe thead th {\n",
       "        text-align: right;\n",
       "    }\n",
       "</style>\n",
       "<table border=\"1\" class=\"dataframe\">\n",
       "  <thead>\n",
       "    <tr style=\"text-align: right;\">\n",
       "      <th></th>\n",
       "      <th>sum</th>\n",
       "      <th>count</th>\n",
       "      <th>mean</th>\n",
       "    </tr>\n",
       "    <tr>\n",
       "      <th>userId</th>\n",
       "      <th></th>\n",
       "      <th></th>\n",
       "      <th></th>\n",
       "    </tr>\n",
       "  </thead>\n",
       "  <tbody>\n",
       "    <tr>\n",
       "      <th>1</th>\n",
       "      <td>187.722845</td>\n",
       "      <td>232</td>\n",
       "      <td>0.809150</td>\n",
       "    </tr>\n",
       "    <tr>\n",
       "      <th>12</th>\n",
       "      <td>33.979681</td>\n",
       "      <td>32</td>\n",
       "      <td>1.061865</td>\n",
       "    </tr>\n",
       "    <tr>\n",
       "      <th>25</th>\n",
       "      <td>20.933721</td>\n",
       "      <td>26</td>\n",
       "      <td>0.805143</td>\n",
       "    </tr>\n",
       "    <tr>\n",
       "      <th>30</th>\n",
       "      <td>25.517260</td>\n",
       "      <td>34</td>\n",
       "      <td>0.750508</td>\n",
       "    </tr>\n",
       "    <tr>\n",
       "      <th>35</th>\n",
       "      <td>12.766654</td>\n",
       "      <td>23</td>\n",
       "      <td>0.555072</td>\n",
       "    </tr>\n",
       "    <tr>\n",
       "      <th>37</th>\n",
       "      <td>10.597083</td>\n",
       "      <td>21</td>\n",
       "      <td>0.504623</td>\n",
       "    </tr>\n",
       "    <tr>\n",
       "      <th>43</th>\n",
       "      <td>143.198415</td>\n",
       "      <td>114</td>\n",
       "      <td>1.256126</td>\n",
       "    </tr>\n",
       "    <tr>\n",
       "      <th>46</th>\n",
       "      <td>22.639784</td>\n",
       "      <td>42</td>\n",
       "      <td>0.539042</td>\n",
       "    </tr>\n",
       "    <tr>\n",
       "      <th>48</th>\n",
       "      <td>16.707587</td>\n",
       "      <td>33</td>\n",
       "      <td>0.506291</td>\n",
       "    </tr>\n",
       "    <tr>\n",
       "      <th>52</th>\n",
       "      <td>90.871730</td>\n",
       "      <td>130</td>\n",
       "      <td>0.699013</td>\n",
       "    </tr>\n",
       "    <tr>\n",
       "      <th>53</th>\n",
       "      <td>29.643643</td>\n",
       "      <td>20</td>\n",
       "      <td>1.482182</td>\n",
       "    </tr>\n",
       "    <tr>\n",
       "      <th>69</th>\n",
       "      <td>31.304496</td>\n",
       "      <td>46</td>\n",
       "      <td>0.680533</td>\n",
       "    </tr>\n",
       "    <tr>\n",
       "      <th>80</th>\n",
       "      <td>103.106320</td>\n",
       "      <td>167</td>\n",
       "      <td>0.617403</td>\n",
       "    </tr>\n",
       "    <tr>\n",
       "      <th>92</th>\n",
       "      <td>12.768872</td>\n",
       "      <td>24</td>\n",
       "      <td>0.532036</td>\n",
       "    </tr>\n",
       "    <tr>\n",
       "      <th>93</th>\n",
       "      <td>91.618032</td>\n",
       "      <td>97</td>\n",
       "      <td>0.944516</td>\n",
       "    </tr>\n",
       "    <tr>\n",
       "      <th>97</th>\n",
       "      <td>24.676543</td>\n",
       "      <td>36</td>\n",
       "      <td>0.685460</td>\n",
       "    </tr>\n",
       "    <tr>\n",
       "      <th>99</th>\n",
       "      <td>33.802872</td>\n",
       "      <td>53</td>\n",
       "      <td>0.637790</td>\n",
       "    </tr>\n",
       "    <tr>\n",
       "      <th>106</th>\n",
       "      <td>23.389583</td>\n",
       "      <td>33</td>\n",
       "      <td>0.708775</td>\n",
       "    </tr>\n",
       "    <tr>\n",
       "      <th>119</th>\n",
       "      <td>125.324760</td>\n",
       "      <td>215</td>\n",
       "      <td>0.582906</td>\n",
       "    </tr>\n",
       "    <tr>\n",
       "      <th>122</th>\n",
       "      <td>244.995857</td>\n",
       "      <td>292</td>\n",
       "      <td>0.839027</td>\n",
       "    </tr>\n",
       "    <tr>\n",
       "      <th>154</th>\n",
       "      <td>22.257677</td>\n",
       "      <td>34</td>\n",
       "      <td>0.654638</td>\n",
       "    </tr>\n",
       "    <tr>\n",
       "      <th>162</th>\n",
       "      <td>23.268565</td>\n",
       "      <td>38</td>\n",
       "      <td>0.612331</td>\n",
       "    </tr>\n",
       "    <tr>\n",
       "      <th>164</th>\n",
       "      <td>20.910873</td>\n",
       "      <td>36</td>\n",
       "      <td>0.580858</td>\n",
       "    </tr>\n",
       "    <tr>\n",
       "      <th>169</th>\n",
       "      <td>214.479548</td>\n",
       "      <td>269</td>\n",
       "      <td>0.797322</td>\n",
       "    </tr>\n",
       "    <tr>\n",
       "      <th>171</th>\n",
       "      <td>67.418905</td>\n",
       "      <td>82</td>\n",
       "      <td>0.822182</td>\n",
       "    </tr>\n",
       "    <tr>\n",
       "      <th>176</th>\n",
       "      <td>18.693635</td>\n",
       "      <td>36</td>\n",
       "      <td>0.519268</td>\n",
       "    </tr>\n",
       "    <tr>\n",
       "      <th>186</th>\n",
       "      <td>121.466363</td>\n",
       "      <td>226</td>\n",
       "      <td>0.537462</td>\n",
       "    </tr>\n",
       "    <tr>\n",
       "      <th>188</th>\n",
       "      <td>27.168401</td>\n",
       "      <td>48</td>\n",
       "      <td>0.566008</td>\n",
       "    </tr>\n",
       "    <tr>\n",
       "      <th>192</th>\n",
       "      <td>11.091318</td>\n",
       "      <td>22</td>\n",
       "      <td>0.504151</td>\n",
       "    </tr>\n",
       "    <tr>\n",
       "      <th>201</th>\n",
       "      <td>64.684579</td>\n",
       "      <td>110</td>\n",
       "      <td>0.588042</td>\n",
       "    </tr>\n",
       "    <tr>\n",
       "      <th>...</th>\n",
       "      <td>...</td>\n",
       "      <td>...</td>\n",
       "      <td>...</td>\n",
       "    </tr>\n",
       "    <tr>\n",
       "      <th>435</th>\n",
       "      <td>23.831593</td>\n",
       "      <td>42</td>\n",
       "      <td>0.567419</td>\n",
       "    </tr>\n",
       "    <tr>\n",
       "      <th>441</th>\n",
       "      <td>31.118387</td>\n",
       "      <td>45</td>\n",
       "      <td>0.691520</td>\n",
       "    </tr>\n",
       "    <tr>\n",
       "      <th>447</th>\n",
       "      <td>39.345723</td>\n",
       "      <td>78</td>\n",
       "      <td>0.504432</td>\n",
       "    </tr>\n",
       "    <tr>\n",
       "      <th>452</th>\n",
       "      <td>208.189797</td>\n",
       "      <td>202</td>\n",
       "      <td>1.030643</td>\n",
       "    </tr>\n",
       "    <tr>\n",
       "      <th>456</th>\n",
       "      <td>25.222682</td>\n",
       "      <td>43</td>\n",
       "      <td>0.586574</td>\n",
       "    </tr>\n",
       "    <tr>\n",
       "      <th>458</th>\n",
       "      <td>37.561026</td>\n",
       "      <td>59</td>\n",
       "      <td>0.636628</td>\n",
       "    </tr>\n",
       "    <tr>\n",
       "      <th>459</th>\n",
       "      <td>13.216088</td>\n",
       "      <td>26</td>\n",
       "      <td>0.508311</td>\n",
       "    </tr>\n",
       "    <tr>\n",
       "      <th>475</th>\n",
       "      <td>134.593669</td>\n",
       "      <td>155</td>\n",
       "      <td>0.868346</td>\n",
       "    </tr>\n",
       "    <tr>\n",
       "      <th>486</th>\n",
       "      <td>31.763562</td>\n",
       "      <td>56</td>\n",
       "      <td>0.567206</td>\n",
       "    </tr>\n",
       "    <tr>\n",
       "      <th>491</th>\n",
       "      <td>38.987219</td>\n",
       "      <td>64</td>\n",
       "      <td>0.609175</td>\n",
       "    </tr>\n",
       "    <tr>\n",
       "      <th>492</th>\n",
       "      <td>88.477353</td>\n",
       "      <td>121</td>\n",
       "      <td>0.731218</td>\n",
       "    </tr>\n",
       "    <tr>\n",
       "      <th>498</th>\n",
       "      <td>17.692255</td>\n",
       "      <td>35</td>\n",
       "      <td>0.505493</td>\n",
       "    </tr>\n",
       "    <tr>\n",
       "      <th>505</th>\n",
       "      <td>15.970511</td>\n",
       "      <td>31</td>\n",
       "      <td>0.515178</td>\n",
       "    </tr>\n",
       "    <tr>\n",
       "      <th>515</th>\n",
       "      <td>22.167566</td>\n",
       "      <td>26</td>\n",
       "      <td>0.852599</td>\n",
       "    </tr>\n",
       "    <tr>\n",
       "      <th>519</th>\n",
       "      <td>17.094075</td>\n",
       "      <td>26</td>\n",
       "      <td>0.657464</td>\n",
       "    </tr>\n",
       "    <tr>\n",
       "      <th>523</th>\n",
       "      <td>63.817143</td>\n",
       "      <td>75</td>\n",
       "      <td>0.850895</td>\n",
       "    </tr>\n",
       "    <tr>\n",
       "      <th>527</th>\n",
       "      <td>94.723700</td>\n",
       "      <td>167</td>\n",
       "      <td>0.567208</td>\n",
       "    </tr>\n",
       "    <tr>\n",
       "      <th>538</th>\n",
       "      <td>25.985685</td>\n",
       "      <td>37</td>\n",
       "      <td>0.702316</td>\n",
       "    </tr>\n",
       "    <tr>\n",
       "      <th>543</th>\n",
       "      <td>73.365971</td>\n",
       "      <td>76</td>\n",
       "      <td>0.965342</td>\n",
       "    </tr>\n",
       "    <tr>\n",
       "      <th>544</th>\n",
       "      <td>17.171411</td>\n",
       "      <td>22</td>\n",
       "      <td>0.780519</td>\n",
       "    </tr>\n",
       "    <tr>\n",
       "      <th>548</th>\n",
       "      <td>17.186822</td>\n",
       "      <td>26</td>\n",
       "      <td>0.661032</td>\n",
       "    </tr>\n",
       "    <tr>\n",
       "      <th>556</th>\n",
       "      <td>19.927060</td>\n",
       "      <td>32</td>\n",
       "      <td>0.622721</td>\n",
       "    </tr>\n",
       "    <tr>\n",
       "      <th>558</th>\n",
       "      <td>30.059820</td>\n",
       "      <td>56</td>\n",
       "      <td>0.536782</td>\n",
       "    </tr>\n",
       "    <tr>\n",
       "      <th>573</th>\n",
       "      <td>171.642236</td>\n",
       "      <td>299</td>\n",
       "      <td>0.574054</td>\n",
       "    </tr>\n",
       "    <tr>\n",
       "      <th>578</th>\n",
       "      <td>17.540819</td>\n",
       "      <td>27</td>\n",
       "      <td>0.649660</td>\n",
       "    </tr>\n",
       "    <tr>\n",
       "      <th>579</th>\n",
       "      <td>40.324447</td>\n",
       "      <td>73</td>\n",
       "      <td>0.552390</td>\n",
       "    </tr>\n",
       "    <tr>\n",
       "      <th>584</th>\n",
       "      <td>62.377977</td>\n",
       "      <td>83</td>\n",
       "      <td>0.751542</td>\n",
       "    </tr>\n",
       "    <tr>\n",
       "      <th>586</th>\n",
       "      <td>152.728844</td>\n",
       "      <td>208</td>\n",
       "      <td>0.734273</td>\n",
       "    </tr>\n",
       "    <tr>\n",
       "      <th>594</th>\n",
       "      <td>149.607262</td>\n",
       "      <td>232</td>\n",
       "      <td>0.644859</td>\n",
       "    </tr>\n",
       "    <tr>\n",
       "      <th>595</th>\n",
       "      <td>10.990208</td>\n",
       "      <td>20</td>\n",
       "      <td>0.549510</td>\n",
       "    </tr>\n",
       "  </tbody>\n",
       "</table>\n",
       "<p>82 rows × 3 columns</p>\n",
       "</div>"
      ],
      "text/plain": [
       "               sum  count      mean\n",
       "userId                             \n",
       "1       187.722845    232  0.809150\n",
       "12       33.979681     32  1.061865\n",
       "25       20.933721     26  0.805143\n",
       "30       25.517260     34  0.750508\n",
       "35       12.766654     23  0.555072\n",
       "37       10.597083     21  0.504623\n",
       "43      143.198415    114  1.256126\n",
       "46       22.639784     42  0.539042\n",
       "48       16.707587     33  0.506291\n",
       "52       90.871730    130  0.699013\n",
       "53       29.643643     20  1.482182\n",
       "69       31.304496     46  0.680533\n",
       "80      103.106320    167  0.617403\n",
       "92       12.768872     24  0.532036\n",
       "93       91.618032     97  0.944516\n",
       "97       24.676543     36  0.685460\n",
       "99       33.802872     53  0.637790\n",
       "106      23.389583     33  0.708775\n",
       "119     125.324760    215  0.582906\n",
       "122     244.995857    292  0.839027\n",
       "154      22.257677     34  0.654638\n",
       "162      23.268565     38  0.612331\n",
       "164      20.910873     36  0.580858\n",
       "169     214.479548    269  0.797322\n",
       "171      67.418905     82  0.822182\n",
       "176      18.693635     36  0.519268\n",
       "186     121.466363    226  0.537462\n",
       "188      27.168401     48  0.566008\n",
       "192      11.091318     22  0.504151\n",
       "201      64.684579    110  0.588042\n",
       "...            ...    ...       ...\n",
       "435      23.831593     42  0.567419\n",
       "441      31.118387     45  0.691520\n",
       "447      39.345723     78  0.504432\n",
       "452     208.189797    202  1.030643\n",
       "456      25.222682     43  0.586574\n",
       "458      37.561026     59  0.636628\n",
       "459      13.216088     26  0.508311\n",
       "475     134.593669    155  0.868346\n",
       "486      31.763562     56  0.567206\n",
       "491      38.987219     64  0.609175\n",
       "492      88.477353    121  0.731218\n",
       "498      17.692255     35  0.505493\n",
       "505      15.970511     31  0.515178\n",
       "515      22.167566     26  0.852599\n",
       "519      17.094075     26  0.657464\n",
       "523      63.817143     75  0.850895\n",
       "527      94.723700    167  0.567208\n",
       "538      25.985685     37  0.702316\n",
       "543      73.365971     76  0.965342\n",
       "544      17.171411     22  0.780519\n",
       "548      17.186822     26  0.661032\n",
       "556      19.927060     32  0.622721\n",
       "558      30.059820     56  0.536782\n",
       "573     171.642236    299  0.574054\n",
       "578      17.540819     27  0.649660\n",
       "579      40.324447     73  0.552390\n",
       "584      62.377977     83  0.751542\n",
       "586     152.728844    208  0.734273\n",
       "594     149.607262    232  0.644859\n",
       "595      10.990208     20  0.549510\n",
       "\n",
       "[82 rows x 3 columns]"
      ]
     },
     "execution_count": 496,
     "metadata": {},
     "output_type": "execute_result"
    }
   ],
   "source": [
    "#те кто завышает оценки\n",
    "df2[df2['mean']>=0.5]"
   ]
  },
  {
   "cell_type": "markdown",
   "metadata": {},
   "source": [
    "### 7.Постоим рекомендательную систему"
   ]
  },
  {
   "cell_type": "code",
   "execution_count": 363,
   "metadata": {},
   "outputs": [],
   "source": [
    "from surprise import SVD\n",
    "from surprise import Dataset\n",
    "from surprise.model_selection import cross_validate, GridSearchCV\n",
    "from surprise import Reader, Dataset, SVD, evaluate\n",
    "from surprise.model_selection import train_test_split\n",
    "from surprise import accuracy\n",
    "import numpy as np"
   ]
  },
  {
   "cell_type": "code",
   "execution_count": 364,
   "metadata": {},
   "outputs": [],
   "source": [
    "reader = Reader(rating_scale=(0.5, 5))  \n",
    "data = Dataset.load_from_df(df[['userId', 'movieId', 'rating']],reader)"
   ]
  },
  {
   "cell_type": "code",
   "execution_count": 365,
   "metadata": {},
   "outputs": [
    {
     "data": {
      "text/plain": [
       "<surprise.dataset.DatasetAutoFolds at 0x19496e10>"
      ]
     },
     "execution_count": 365,
     "metadata": {},
     "output_type": "execute_result"
    }
   ],
   "source": [
    "data"
   ]
  },
  {
   "cell_type": "code",
   "execution_count": null,
   "metadata": {},
   "outputs": [],
   "source": [
    "param_grid = {\n",
    "    'lr_all': [0.005, 0.05],\n",
    "    'reg_all': [0.02, 0.002],\n",
    "    'n_factors': [5, 10, 100, 500],\n",
    "    'n_epochs': [10, 100]\n",
    "}\n",
    "\n",
    "gs = GridSearchCV(SVD, param_grid, measures=['rmse', 'mae'], cv=3)\n",
    "\n",
    "gs.fit(data)\n",
    "\n",
    "# best RMSE score\n",
    "print(gs.best_score['rmse'])"
   ]
  },
  {
   "cell_type": "code",
   "execution_count": 370,
   "metadata": {},
   "outputs": [
    {
     "name": "stdout",
     "output_type": "stream",
     "text": [
      "{'rmse': 0.8703370945631276, 'mae': 0.6665635539094863}\n"
     ]
    }
   ],
   "source": [
    "print(gs.best_score)"
   ]
  },
  {
   "cell_type": "code",
   "execution_count": 178,
   "metadata": {},
   "outputs": [
    {
     "data": {
      "text/plain": [
       "{'rmse': {'lr_all': 0.05, 'reg_all': 0.02, 'n_factors': 500, 'n_epochs': 100},\n",
       " 'mae': {'lr_all': 0.05, 'reg_all': 0.02, 'n_factors': 500, 'n_epochs': 100}}"
      ]
     },
     "execution_count": 178,
     "metadata": {},
     "output_type": "execute_result"
    }
   ],
   "source": [
    "gs.best_params"
   ]
  },
  {
   "cell_type": "code",
   "execution_count": 180,
   "metadata": {},
   "outputs": [],
   "source": [
    "svd = SVD(**gs.best_params['rmse'])"
   ]
  },
  {
   "cell_type": "code",
   "execution_count": 372,
   "metadata": {},
   "outputs": [],
   "source": [
    "trainset, testset = train_test_split(data, test_size=.25)"
   ]
  },
  {
   "cell_type": "code",
   "execution_count": 373,
   "metadata": {},
   "outputs": [
    {
     "data": {
      "text/plain": [
       "<surprise.prediction_algorithms.matrix_factorization.SVD at 0x9da72e8>"
      ]
     },
     "execution_count": 373,
     "metadata": {},
     "output_type": "execute_result"
    }
   ],
   "source": [
    "svd.fit(trainset)\n"
   ]
  },
  {
   "cell_type": "code",
   "execution_count": 374,
   "metadata": {},
   "outputs": [],
   "source": [
    "predictions = svd.test(testset)"
   ]
  },
  {
   "cell_type": "code",
   "execution_count": null,
   "metadata": {},
   "outputs": [],
   "source": [
    "predictions"
   ]
  },
  {
   "cell_type": "code",
   "execution_count": 376,
   "metadata": {},
   "outputs": [
    {
     "data": {
      "text/plain": [
       "Prediction(uid=59, iid=1151, r_ui=None, est=4.967434280236602, details={'was_impossible': False})"
      ]
     },
     "execution_count": 376,
     "metadata": {},
     "output_type": "execute_result"
    }
   ],
   "source": [
    "svd.predict(59, 1151)"
   ]
  },
  {
   "cell_type": "code",
   "execution_count": 379,
   "metadata": {},
   "outputs": [
    {
     "name": "stdout",
     "output_type": "stream",
     "text": [
      "RMSE: 0.8632\n"
     ]
    },
    {
     "data": {
      "text/plain": [
       "0.8632217741663452"
      ]
     },
     "execution_count": 379,
     "metadata": {},
     "output_type": "execute_result"
    }
   ],
   "source": [
    "accuracy.rmse(predictions)"
   ]
  },
  {
   "cell_type": "markdown",
   "metadata": {},
   "source": [
    "### 8.Получить рекомендации "
   ]
  },
  {
   "cell_type": "markdown",
   "metadata": {},
   "source": [
    "Рекомендации для существующего пользователя"
   ]
  },
  {
   "cell_type": "code",
   "execution_count": 380,
   "metadata": {},
   "outputs": [],
   "source": [
    "iids = df['movieId'].unique()"
   ]
  },
  {
   "cell_type": "code",
   "execution_count": 381,
   "metadata": {},
   "outputs": [],
   "source": [
    "iidsUser = df.loc[df['userId']==384, 'movieId']\n",
    "iids_to_pred =  np.setdiff1d(iids,iidsUser) "
   ]
  },
  {
   "cell_type": "code",
   "execution_count": 382,
   "metadata": {},
   "outputs": [
    {
     "data": {
      "text/plain": [
       "(9724, 9654, 70)"
      ]
     },
     "execution_count": 382,
     "metadata": {},
     "output_type": "execute_result"
    }
   ],
   "source": [
    "len(iids), len(iids_to_pred), len(iidsUser)"
   ]
  },
  {
   "cell_type": "code",
   "execution_count": 383,
   "metadata": {},
   "outputs": [
    {
     "data": {
      "text/plain": [
       "Prediction(uid=384, iid=3, r_ui=4.0, est=3.184148469069245, details={'was_impossible': False})"
      ]
     },
     "execution_count": 383,
     "metadata": {},
     "output_type": "execute_result"
    }
   ],
   "source": [
    "testset  = [[384, iid, 4.] for iid in iids_to_pred]\n",
    "predictions = svd.test(testset)\n",
    "predictions[2]"
   ]
  },
  {
   "cell_type": "code",
   "execution_count": 384,
   "metadata": {},
   "outputs": [
    {
     "name": "stdout",
     "output_type": "stream",
     "text": [
      "Лучший фильм для этого пользователя 858 c предсказанным рейтингом  4.869537186476973\n"
     ]
    }
   ],
   "source": [
    "pred_ratings = np.array([pred.est for pred in predictions ])\n",
    "i_max = pred_ratings.argmax()\n",
    "iid = iids_to_pred[i_max]\n",
    "print(\"Лучший фильм для этого пользователя {0} c предсказанным рейтингом  {1}\".format(iid, pred_ratings[i_max]))"
   ]
  },
  {
   "cell_type": "markdown",
   "metadata": {},
   "source": [
    "Рекомендации для нового пользователя"
   ]
  },
  {
   "cell_type": "code",
   "execution_count": 400,
   "metadata": {},
   "outputs": [
    {
     "data": {
      "text/plain": [
       "Prediction(uid=615, iid=1, r_ui=4.0, est=3.833357664235556, details={'was_impossible': False})"
      ]
     },
     "execution_count": 400,
     "metadata": {},
     "output_type": "execute_result"
    }
   ],
   "source": [
    "testset  = [[615, iid, 4.] for iid in iids]\n",
    "predictions = svd.test(testset)\n",
    "predictions[0]"
   ]
  },
  {
   "cell_type": "code",
   "execution_count": 401,
   "metadata": {},
   "outputs": [
    {
     "name": "stdout",
     "output_type": "stream",
     "text": [
      "Лучший фильм для этого пользователя 177593 c предсказанным рейтингом  4.353718920989347\n"
     ]
    }
   ],
   "source": [
    "pred_ratings = np.array([pred.est for pred in predictions ])\n",
    "i_max = pred_ratings.argmax()\n",
    "iid = iids[i_max]\n",
    "print(\"Лучший фильм для этого пользователя {0} c предсказанным рейтингом  {1}\".format(iid, pred_ratings[i_max]))"
   ]
  },
  {
   "cell_type": "code",
   "execution_count": 404,
   "metadata": {},
   "outputs": [
    {
     "data": {
      "text/html": [
       "<div>\n",
       "<style scoped>\n",
       "    .dataframe tbody tr th:only-of-type {\n",
       "        vertical-align: middle;\n",
       "    }\n",
       "\n",
       "    .dataframe tbody tr th {\n",
       "        vertical-align: top;\n",
       "    }\n",
       "\n",
       "    .dataframe thead th {\n",
       "        text-align: right;\n",
       "    }\n",
       "</style>\n",
       "<table border=\"1\" class=\"dataframe\">\n",
       "  <thead>\n",
       "    <tr style=\"text-align: right;\">\n",
       "      <th></th>\n",
       "      <th>userId</th>\n",
       "      <th>movieId</th>\n",
       "      <th>rating</th>\n",
       "      <th>timestamp</th>\n",
       "      <th>mean</th>\n",
       "      <th>count</th>\n",
       "      <th>user_mean</th>\n",
       "    </tr>\n",
       "  </thead>\n",
       "  <tbody>\n",
       "    <tr>\n",
       "      <th>1166</th>\n",
       "      <td>18</td>\n",
       "      <td>177593</td>\n",
       "      <td>4.5</td>\n",
       "      <td>1534007386</td>\n",
       "      <td>4.75</td>\n",
       "      <td>8</td>\n",
       "      <td>3.732072</td>\n",
       "    </tr>\n",
       "    <tr>\n",
       "      <th>19866</th>\n",
       "      <td>233</td>\n",
       "      <td>177593</td>\n",
       "      <td>5.0</td>\n",
       "      <td>1524781384</td>\n",
       "      <td>4.75</td>\n",
       "      <td>8</td>\n",
       "      <td>3.300000</td>\n",
       "    </tr>\n",
       "    <tr>\n",
       "      <th>35789</th>\n",
       "      <td>414</td>\n",
       "      <td>177593</td>\n",
       "      <td>4.5</td>\n",
       "      <td>1521844144</td>\n",
       "      <td>4.75</td>\n",
       "      <td>8</td>\n",
       "      <td>3.391957</td>\n",
       "    </tr>\n",
       "    <tr>\n",
       "      <th>72524</th>\n",
       "      <td>318</td>\n",
       "      <td>177593</td>\n",
       "      <td>4.5</td>\n",
       "      <td>1516826106</td>\n",
       "      <td>4.75</td>\n",
       "      <td>8</td>\n",
       "      <td>3.755973</td>\n",
       "    </tr>\n",
       "    <tr>\n",
       "      <th>85565</th>\n",
       "      <td>338</td>\n",
       "      <td>177593</td>\n",
       "      <td>5.0</td>\n",
       "      <td>1530148460</td>\n",
       "      <td>4.75</td>\n",
       "      <td>8</td>\n",
       "      <td>2.935897</td>\n",
       "    </tr>\n",
       "    <tr>\n",
       "      <th>92527</th>\n",
       "      <td>25</td>\n",
       "      <td>177593</td>\n",
       "      <td>5.0</td>\n",
       "      <td>1535470532</td>\n",
       "      <td>4.75</td>\n",
       "      <td>8</td>\n",
       "      <td>4.807692</td>\n",
       "    </tr>\n",
       "    <tr>\n",
       "      <th>94044</th>\n",
       "      <td>212</td>\n",
       "      <td>177593</td>\n",
       "      <td>5.0</td>\n",
       "      <td>1527794935</td>\n",
       "      <td>4.75</td>\n",
       "      <td>8</td>\n",
       "      <td>3.590726</td>\n",
       "    </tr>\n",
       "    <tr>\n",
       "      <th>97115</th>\n",
       "      <td>209</td>\n",
       "      <td>177593</td>\n",
       "      <td>4.5</td>\n",
       "      <td>1524522248</td>\n",
       "      <td>4.75</td>\n",
       "      <td>8</td>\n",
       "      <td>4.242857</td>\n",
       "    </tr>\n",
       "  </tbody>\n",
       "</table>\n",
       "</div>"
      ],
      "text/plain": [
       "       userId  movieId  rating   timestamp  mean  count  user_mean\n",
       "1166       18   177593     4.5  1534007386  4.75      8   3.732072\n",
       "19866     233   177593     5.0  1524781384  4.75      8   3.300000\n",
       "35789     414   177593     4.5  1521844144  4.75      8   3.391957\n",
       "72524     318   177593     4.5  1516826106  4.75      8   3.755973\n",
       "85565     338   177593     5.0  1530148460  4.75      8   2.935897\n",
       "92527      25   177593     5.0  1535470532  4.75      8   4.807692\n",
       "94044     212   177593     5.0  1527794935  4.75      8   3.590726\n",
       "97115     209   177593     4.5  1524522248  4.75      8   4.242857"
      ]
     },
     "execution_count": 404,
     "metadata": {},
     "output_type": "execute_result"
    }
   ],
   "source": [
    "# Этот фильм  входит в лучшие \n",
    "df[df['movieId']==177593]"
   ]
  },
  {
   "cell_type": "code",
   "execution_count": null,
   "metadata": {},
   "outputs": [],
   "source": []
  }
 ],
 "metadata": {
  "kernelspec": {
   "display_name": "Python 3",
   "language": "python",
   "name": "python3"
  },
  "language_info": {
   "codemirror_mode": {
    "name": "ipython",
    "version": 3
   },
   "file_extension": ".py",
   "mimetype": "text/x-python",
   "name": "python",
   "nbconvert_exporter": "python",
   "pygments_lexer": "ipython3",
   "version": "3.6.5"
  }
 },
 "nbformat": 4,
 "nbformat_minor": 2
}
